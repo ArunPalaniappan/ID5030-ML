{
 "cells": [
  {
   "cell_type": "markdown",
   "id": "88730f45",
   "metadata": {},
   "source": [
    "# Importing Libraries"
   ]
  },
  {
   "cell_type": "code",
   "execution_count": 59,
   "id": "c240212f",
   "metadata": {},
   "outputs": [],
   "source": [
    "import numpy as np\n",
    "from numpy.linalg import inv\n",
    "import pandas as pd\n",
    "from tqdm import tqdm\n",
    "\n",
    "from sklearn.linear_model import LinearRegression\n",
    "from sklearn.metrics import r2_score, mean_squared_error, confusion_matrix\n",
    "from sklearn.model_selection import train_test_split\n",
    "from sklearn.preprocessing import LabelEncoder, StandardScaler, OneHotEncoder\n",
    "\n",
    "import torch\n",
    "import torch.nn as nn\n",
    "import torch.optim as optim\n",
    "\n",
    "import seaborn as sns\n",
    "import matplotlib.pyplot as plt\n",
    "%matplotlib inline\n",
    "\n",
    "import warnings\n",
    "warnings.filterwarnings(\"ignore\")"
   ]
  },
  {
   "cell_type": "markdown",
   "id": "084592be",
   "metadata": {},
   "source": [
    "# 1) XOR Gate"
   ]
  },
  {
   "cell_type": "code",
   "execution_count": 60,
   "id": "1e60690d",
   "metadata": {},
   "outputs": [],
   "source": [
    "def sigmoid(x):\n",
    "    return 1 / (1 + np.exp(-x))\n",
    "\n",
    "def der_sig(x):\n",
    "    return x * (1 - x)"
   ]
  },
  {
   "cell_type": "code",
   "execution_count": 61,
   "id": "f2160f93",
   "metadata": {},
   "outputs": [],
   "source": [
    "X = np.array([[0, 0], [0, 1], [1, 0], [1, 1]])\n",
    "y = np.array([[0], [1], [1], [0]])"
   ]
  },
  {
   "cell_type": "code",
   "execution_count": 62,
   "id": "09443afe",
   "metadata": {},
   "outputs": [],
   "source": [
    "def nn_xor(X, y, epochs, learning_rate, weights_hidden, weights_output):\n",
    "    for i in range(epochs):\n",
    "        hidden_layer_i = np.dot(X, weights_hidden)\n",
    "        hidden_layer_o = sigmoid(hidden_layer_i)\n",
    "        output_layer_i = np.dot(hidden_layer_o, weights_output)\n",
    "        output = sigmoid(output_layer_i)\n",
    "\n",
    "        error = y - output\n",
    "        d_output = error * der_sig(output)\n",
    "        error_hidden = d_output.dot(weights_output.T)\n",
    "        d_hidden = error_hidden * der_sig(hidden_layer_o)\n",
    "\n",
    "        weights_output += hidden_layer_o.T.dot(d_output) * learning_rate\n",
    "        weights_hidden += X.T.dot(d_hidden) * learning_rate\n",
    "\n",
    "    return (output)"
   ]
  },
  {
   "cell_type": "code",
   "execution_count": 63,
   "id": "c3ebbedf",
   "metadata": {},
   "outputs": [],
   "source": [
    "np.random.seed(1)\n",
    "weights_hidden = np.random.uniform(size=(2, 2))\n",
    "weights_output = np.random.uniform(size=(2, 1))\n",
    "\n",
    "learning_rate = 0.1\n",
    "epochs = 100000\n",
    "\n",
    "output = nn_xor(X, y, epochs, learning_rate, weights_hidden, weights_output)"
   ]
  },
  {
   "cell_type": "code",
   "execution_count": 64,
   "id": "94039e50",
   "metadata": {},
   "outputs": [
    {
     "name": "stdout",
     "output_type": "stream",
     "text": [
      "[0, 1, 1, 0]\n"
     ]
    }
   ],
   "source": [
    "prediction = []\n",
    "for i in output:\n",
    "    if i[0] < 0.5:\n",
    "        prediction.append(0)\n",
    "    else :\n",
    "        prediction.append(1)\n",
    "print(prediction)"
   ]
  },
  {
   "cell_type": "markdown",
   "id": "b6dce1cb",
   "metadata": {},
   "source": [
    "- Hence we can see that using **Neural Network**, we have predicted the output of **XOR**\n",
    "accurately"
   ]
  },
  {
   "cell_type": "markdown",
   "id": "63e0a745",
   "metadata": {},
   "source": [
    "# 2a) Scratch, python"
   ]
  },
  {
   "cell_type": "markdown",
   "id": "6915e986",
   "metadata": {},
   "source": [
    "## Reading the Data"
   ]
  },
  {
   "cell_type": "code",
   "execution_count": 65,
   "id": "4ea6a9e6",
   "metadata": {},
   "outputs": [
    {
     "data": {
      "text/html": [
       "<div>\n",
       "<style scoped>\n",
       "    .dataframe tbody tr th:only-of-type {\n",
       "        vertical-align: middle;\n",
       "    }\n",
       "\n",
       "    .dataframe tbody tr th {\n",
       "        vertical-align: top;\n",
       "    }\n",
       "\n",
       "    .dataframe thead th {\n",
       "        text-align: right;\n",
       "    }\n",
       "</style>\n",
       "<table border=\"1\" class=\"dataframe\">\n",
       "  <thead>\n",
       "    <tr style=\"text-align: right;\">\n",
       "      <th></th>\n",
       "      <th>Cement (component 1)(kg in a m^3 mixture)</th>\n",
       "      <th>Blast Furnace Slag (component 2)(kg in a m^3 mixture)</th>\n",
       "      <th>Fly Ash (component 3)(kg in a m^3 mixture)</th>\n",
       "      <th>Water  (component 4)(kg in a m^3 mixture)</th>\n",
       "      <th>Superplasticizer (component 5)(kg in a m^3 mixture)</th>\n",
       "      <th>Coarse Aggregate  (component 6)(kg in a m^3 mixture)</th>\n",
       "      <th>Fine Aggregate (component 7)(kg in a m^3 mixture)</th>\n",
       "      <th>Age (day)</th>\n",
       "      <th>Concrete compressive strength(MPa, megapascals)</th>\n",
       "    </tr>\n",
       "  </thead>\n",
       "  <tbody>\n",
       "    <tr>\n",
       "      <th>0</th>\n",
       "      <td>540.0</td>\n",
       "      <td>0.0</td>\n",
       "      <td>0.0</td>\n",
       "      <td>162.0</td>\n",
       "      <td>2.5</td>\n",
       "      <td>1040.0</td>\n",
       "      <td>676.0</td>\n",
       "      <td>28</td>\n",
       "      <td>79.986111</td>\n",
       "    </tr>\n",
       "    <tr>\n",
       "      <th>1</th>\n",
       "      <td>540.0</td>\n",
       "      <td>0.0</td>\n",
       "      <td>0.0</td>\n",
       "      <td>162.0</td>\n",
       "      <td>2.5</td>\n",
       "      <td>1055.0</td>\n",
       "      <td>676.0</td>\n",
       "      <td>28</td>\n",
       "      <td>61.887366</td>\n",
       "    </tr>\n",
       "    <tr>\n",
       "      <th>2</th>\n",
       "      <td>332.5</td>\n",
       "      <td>142.5</td>\n",
       "      <td>0.0</td>\n",
       "      <td>228.0</td>\n",
       "      <td>0.0</td>\n",
       "      <td>932.0</td>\n",
       "      <td>594.0</td>\n",
       "      <td>270</td>\n",
       "      <td>40.269535</td>\n",
       "    </tr>\n",
       "    <tr>\n",
       "      <th>3</th>\n",
       "      <td>332.5</td>\n",
       "      <td>142.5</td>\n",
       "      <td>0.0</td>\n",
       "      <td>228.0</td>\n",
       "      <td>0.0</td>\n",
       "      <td>932.0</td>\n",
       "      <td>594.0</td>\n",
       "      <td>365</td>\n",
       "      <td>41.052780</td>\n",
       "    </tr>\n",
       "    <tr>\n",
       "      <th>4</th>\n",
       "      <td>198.6</td>\n",
       "      <td>132.4</td>\n",
       "      <td>0.0</td>\n",
       "      <td>192.0</td>\n",
       "      <td>0.0</td>\n",
       "      <td>978.4</td>\n",
       "      <td>825.5</td>\n",
       "      <td>360</td>\n",
       "      <td>44.296075</td>\n",
       "    </tr>\n",
       "  </tbody>\n",
       "</table>\n",
       "</div>"
      ],
      "text/plain": [
       "   Cement (component 1)(kg in a m^3 mixture)  \\\n",
       "0                                      540.0   \n",
       "1                                      540.0   \n",
       "2                                      332.5   \n",
       "3                                      332.5   \n",
       "4                                      198.6   \n",
       "\n",
       "   Blast Furnace Slag (component 2)(kg in a m^3 mixture)  \\\n",
       "0                                                0.0       \n",
       "1                                                0.0       \n",
       "2                                              142.5       \n",
       "3                                              142.5       \n",
       "4                                              132.4       \n",
       "\n",
       "   Fly Ash (component 3)(kg in a m^3 mixture)  \\\n",
       "0                                         0.0   \n",
       "1                                         0.0   \n",
       "2                                         0.0   \n",
       "3                                         0.0   \n",
       "4                                         0.0   \n",
       "\n",
       "   Water  (component 4)(kg in a m^3 mixture)  \\\n",
       "0                                      162.0   \n",
       "1                                      162.0   \n",
       "2                                      228.0   \n",
       "3                                      228.0   \n",
       "4                                      192.0   \n",
       "\n",
       "   Superplasticizer (component 5)(kg in a m^3 mixture)  \\\n",
       "0                                                2.5     \n",
       "1                                                2.5     \n",
       "2                                                0.0     \n",
       "3                                                0.0     \n",
       "4                                                0.0     \n",
       "\n",
       "   Coarse Aggregate  (component 6)(kg in a m^3 mixture)  \\\n",
       "0                                             1040.0      \n",
       "1                                             1055.0      \n",
       "2                                              932.0      \n",
       "3                                              932.0      \n",
       "4                                              978.4      \n",
       "\n",
       "   Fine Aggregate (component 7)(kg in a m^3 mixture)  Age (day)  \\\n",
       "0                                              676.0         28   \n",
       "1                                              676.0         28   \n",
       "2                                              594.0        270   \n",
       "3                                              594.0        365   \n",
       "4                                              825.5        360   \n",
       "\n",
       "   Concrete compressive strength(MPa, megapascals)   \n",
       "0                                         79.986111  \n",
       "1                                         61.887366  \n",
       "2                                         40.269535  \n",
       "3                                         41.052780  \n",
       "4                                         44.296075  "
      ]
     },
     "execution_count": 65,
     "metadata": {},
     "output_type": "execute_result"
    }
   ],
   "source": [
    "data = pd.read_excel('Concrete_Data.xls')\n",
    "data.head()"
   ]
  },
  {
   "cell_type": "code",
   "execution_count": 66,
   "id": "9b159971",
   "metadata": {},
   "outputs": [],
   "source": [
    "X = data.drop(columns = ['Concrete compressive strength(MPa, megapascals) ']).to_numpy()\n",
    "X_norm=(X-X.mean())/X.std()\n",
    "y = data['Concrete compressive strength(MPa, megapascals) '].to_numpy()"
   ]
  },
  {
   "cell_type": "code",
   "execution_count": 67,
   "id": "691398f6",
   "metadata": {},
   "outputs": [],
   "source": [
    "def activation(x):\n",
    "    return np.maximum(0,x)\n",
    "\n",
    "def der_act(x):\n",
    "    return np.rint(sigmoid(x))"
   ]
  },
  {
   "cell_type": "code",
   "execution_count": 68,
   "id": "9f4c4756",
   "metadata": {},
   "outputs": [],
   "source": [
    "def nnet(X, y, epochs, learning_rate, no_neurons, print_):\n",
    "    global loss_train, n_iter\n",
    "    loss_train = []\n",
    "    n_iter = []\n",
    "    \n",
    "    np.random.seed(1)\n",
    "    weights_hidden = np.random.uniform(size=(X.shape[1], no_neurons))\n",
    "    weights_output = np.random.uniform(size=(no_neurons, 1))\n",
    "\n",
    "    for i in range(epochs):\n",
    "        hidden_layer_i = np.dot(X, weights_hidden)\n",
    "        hidden_layer_o = activation(hidden_layer_i)\n",
    "        output_layer_i = np.dot(hidden_layer_o, weights_output)\n",
    "        output = activation(output_layer_i)\n",
    "\n",
    "        error = y.reshape(y.shape[0],1) - output\n",
    "        \n",
    "        if print_ == 'yes':\n",
    "            if i%1000==0 or i == epochs-1:\n",
    "                print('Epoch [{}/{}], Loss: {:.4f}'.format(i, epochs, np.sum(error*error)/y.shape[0]))\n",
    "                loss_train.append(np.sum(error*error)/y.shape[0])\n",
    "                n_iter.append(i)\n",
    "        elif print_ == 'no':\n",
    "            pass\n",
    "\n",
    "        d_output = error * der_act(output)\n",
    "        error_hidden = d_output.dot(weights_output.T)\n",
    "        d_hidden = error_hidden * der_act(hidden_layer_o)\n",
    "\n",
    "        weights_output += hidden_layer_o.T.dot(d_output) * learning_rate\n",
    "        weights_hidden += X.T.dot(d_hidden) * learning_rate\n",
    "\n",
    "    return output, weights_hidden, weights_output"
   ]
  },
  {
   "cell_type": "code",
   "execution_count": 69,
   "id": "cf1434a3",
   "metadata": {},
   "outputs": [
    {
     "name": "stdout",
     "output_type": "stream",
     "text": [
      "Epoch [0/9000], Loss: 1315.7273\n",
      "Epoch [1000/9000], Loss: 189.7221\n",
      "Epoch [2000/9000], Loss: 166.0970\n",
      "Epoch [3000/9000], Loss: 157.3694\n",
      "Epoch [4000/9000], Loss: 152.9701\n",
      "Epoch [5000/9000], Loss: 150.2607\n",
      "Epoch [6000/9000], Loss: 149.2504\n",
      "Epoch [7000/9000], Loss: 148.3255\n",
      "Epoch [8000/9000], Loss: 147.4071\n",
      "Epoch [8999/9000], Loss: 162.6293\n"
     ]
    }
   ],
   "source": [
    "learning_rate = 0.00001\n",
    "epochs = 9000\n",
    "\n",
    "output, weights_hidden, weights_output = nnet(X_norm, y, epochs, learning_rate, 20, 'yes')"
   ]
  },
  {
   "cell_type": "code",
   "execution_count": 70,
   "id": "d24e8ac4",
   "metadata": {},
   "outputs": [
    {
     "data": {
      "image/png": "[encoded data removed]",
      "text/plain": [
       "<Figure size 432x288 with 1 Axes>"
      ]
     },
     "metadata": {
      "needs_background": "light"
     },
     "output_type": "display_data"
    }
   ],
   "source": [
    "plt.plot(n_iter, loss_train)\n",
    "plt.legend(['Train Loss'])\n",
    "plt.ylabel('MSE loss')\n",
    "plt.xlabel('n_iters')\n",
    "plt.title('Train Loss')\n",
    "plt.show()"
   ]
  },
  {
   "cell_type": "markdown",
   "id": "bbefac76",
   "metadata": {},
   "source": [
    "# 2a) PyTorch"
   ]
  },
  {
   "cell_type": "code",
   "execution_count": 71,
   "id": "cf0f4c3b",
   "metadata": {},
   "outputs": [],
   "source": [
    "class Net(nn.Module):\n",
    "    def __init__(self,n):\n",
    "        super(Net, self).__init__()\n",
    "        self.fc1 = nn.Linear(X_norm.shape[1], n)\n",
    "        self.fc2 = nn.Linear(n, 1)\n",
    "\n",
    "    def forward(self, x):\n",
    "        x = torch.relu(self.fc1(x))\n",
    "        x = self.fc2(x)\n",
    "        return x\n",
    "\n",
    "net = Net(20) #20 Neurons\n",
    "criterion = nn.MSELoss()\n",
    "optimizer = optim.Adam(net.parameters(), lr=0.0001)"
   ]
  },
  {
   "cell_type": "code",
   "execution_count": 72,
   "id": "8bacced2",
   "metadata": {},
   "outputs": [],
   "source": [
    "scaler = StandardScaler()\n",
    "train_data = scaler.fit_transform(X)"
   ]
  },
  {
   "cell_type": "code",
   "execution_count": 73,
   "id": "c593049b",
   "metadata": {},
   "outputs": [
    {
     "data": {
      "text/plain": [
       "(1030, 9)"
      ]
     },
     "execution_count": 73,
     "metadata": {},
     "output_type": "execute_result"
    }
   ],
   "source": [
    "train_data = np.hstack((train_data, y.reshape(y.shape[0],1)))\n",
    "train_data.shape"
   ]
  },
  {
   "cell_type": "code",
   "execution_count": 74,
   "id": "a728888f",
   "metadata": {},
   "outputs": [
    {
     "name": "stdout",
     "output_type": "stream",
     "text": [
      "Epoch [0/100], Loss: 1017.2509\n",
      "Epoch [10/100], Loss: 390.5074\n",
      "Epoch [20/100], Loss: 15.7430\n",
      "Epoch [30/100], Loss: 3.6335\n",
      "Epoch [40/100], Loss: 4.4573\n",
      "Epoch [50/100], Loss: 4.3313\n",
      "Epoch [60/100], Loss: 3.9157\n",
      "Epoch [70/100], Loss: 3.5297\n",
      "Epoch [80/100], Loss: 3.2271\n",
      "Epoch [90/100], Loss: 3.0239\n"
     ]
    }
   ],
   "source": [
    "epochs = 100\n",
    "i=0\n",
    "for epoch in range(epochs):\n",
    "    running_loss = 0.0\n",
    "    for j, data in enumerate(train_data):\n",
    "        inputs, labels = data[:-1], data[-1]\n",
    "        inputs, labels = torch.tensor(inputs).float(), torch.tensor(labels).float()\n",
    "\n",
    "        optimizer.zero_grad()\n",
    "\n",
    "        outputs = net(inputs)\n",
    "        loss = criterion(outputs, labels)\n",
    "        loss.backward()\n",
    "        optimizer.step()\n",
    "    \n",
    "    if i%10==0:\n",
    "        print('Epoch [{}/{}], Loss: {:.4f}'.format(i, epochs, loss.item()))\n",
    "        \n",
    "    i+=1"
   ]
  },
  {
   "cell_type": "markdown",
   "id": "474059db",
   "metadata": {},
   "source": [
    "___"
   ]
  },
  {
   "cell_type": "markdown",
   "id": "de63f8d0",
   "metadata": {},
   "source": [
    "# 2b) Hyperparameter Optimization"
   ]
  },
  {
   "cell_type": "code",
   "execution_count": 100,
   "id": "c713f33b",
   "metadata": {},
   "outputs": [],
   "source": [
    "data = pd.read_excel('Concrete_Data.xls')"
   ]
  },
  {
   "cell_type": "code",
   "execution_count": 101,
   "id": "d14339ea",
   "metadata": {},
   "outputs": [],
   "source": [
    "X = data.drop(columns = ['Concrete compressive strength(MPa, megapascals) ']).to_numpy()\n",
    "X_norm=(X-X.mean())/X.std()\n",
    "y = data['Concrete compressive strength(MPa, megapascals) '].to_numpy()"
   ]
  },
  {
   "cell_type": "code",
   "execution_count": 77,
   "id": "0cbdecd8",
   "metadata": {},
   "outputs": [],
   "source": [
    "X_train, X_v, y_train, y_v = train_test_split(X_norm, y, test_size=0.4, random_state=42)\n",
    "X_val, X_test, y_val, y_test = train_test_split(X_v, y_v, test_size=0.5, random_state=42)"
   ]
  },
  {
   "cell_type": "code",
   "execution_count": 79,
   "id": "64a942a6",
   "metadata": {},
   "outputs": [
    {
     "name": "stderr",
     "output_type": "stream",
     "text": [
      "100%|██████████| 14/14 [15:53<00:00, 68.14s/it] \n"
     ]
    }
   ],
   "source": [
    "learning_rate = 0.00001\n",
    "epochs = 10000\n",
    "loss = []\n",
    "\n",
    "for n in tqdm(range(10,150,10)):\n",
    "    output, weights_hidden, weights_output = nnet(X_norm, y, epochs, learning_rate, n, 'no')\n",
    "    \n",
    "    hidden_layer_i = np.dot(X_val, weights_hidden)\n",
    "    hidden_layer_o = activation(hidden_layer_i)\n",
    "    output_layer_i = np.dot(hidden_layer_o, weights_output)\n",
    "    output = activation(output_layer_i)\n",
    "    \n",
    "    error = y_val.reshape(y_val.shape[0],1) - output\n",
    "\n",
    "    loss.append(np.sum(error*error)/y_val.shape[0])"
   ]
  },
  {
   "cell_type": "code",
   "execution_count": 81,
   "id": "3ab6b953",
   "metadata": {},
   "outputs": [
    {
     "data": {
      "image/png": "[encoded data removed]",
      "text/plain": [
       "<Figure size 432x288 with 1 Axes>"
      ]
     },
     "metadata": {
      "needs_background": "light"
     },
     "output_type": "display_data"
    }
   ],
   "source": [
    "plt.plot(list(range(10,150,10)),loss)\n",
    "plt.legend(['Validation Loss'])\n",
    "plt.ylabel('MSE Validation loss')\n",
    "plt.xlabel('no of neurons')\n",
    "plt.title('Validation Loss')\n",
    "plt.show()"
   ]
  },
  {
   "cell_type": "code",
   "execution_count": 83,
   "id": "2bc1c35a",
   "metadata": {},
   "outputs": [
    {
     "name": "stdout",
     "output_type": "stream",
     "text": [
      "corresponding test loss = 105.88140004156318\n"
     ]
    }
   ],
   "source": [
    "index = loss.index(min(loss))\n",
    "no_neurons_min = list(range(10,150,10))[index]\n",
    "\n",
    "output, weights_hidden, weights_output = nnet(X_norm, y, epochs, learning_rate, no_neurons_min, 'no')\n",
    "\n",
    "hidden_layer_i = np.dot(X_test, weights_hidden)\n",
    "hidden_layer_o = activation(hidden_layer_i)\n",
    "output_layer_i = np.dot(hidden_layer_o, weights_output)\n",
    "output = activation(output_layer_i)\n",
    "\n",
    "error = y_test.reshape(y_test.shape[0],1) - output\n",
    "\n",
    "loss = np.sum(error*error)/y_test.shape[0]\n",
    "\n",
    "print('corresponding test loss =',loss)"
   ]
  },
  {
   "cell_type": "markdown",
   "id": "af2d6bdd",
   "metadata": {},
   "source": [
    "# 2c) Comparision with Linear Regression"
   ]
  },
  {
   "cell_type": "markdown",
   "id": "80d86a8d",
   "metadata": {},
   "source": [
    "| Model | MSE Loss |\n",
    "| :-: | :-: |\n",
    "| **Linear Regression** | 107.25 |\n",
    "| **Quadratic Regression** | 51.599 |\n",
    "| **Neural Network** | 3.02 |"
   ]
  },
  {
   "cell_type": "markdown",
   "id": "9c14caf3",
   "metadata": {},
   "source": [
    "- **We can observe that the neural network performs significantly better than linear regression and quadratic regression.**"
   ]
  },
  {
   "cell_type": "markdown",
   "id": "9ee6d40b",
   "metadata": {},
   "source": [
    "# 2d) python, scratch, variable layers"
   ]
  },
  {
   "cell_type": "code",
   "execution_count": 84,
   "id": "c7185a38",
   "metadata": {},
   "outputs": [],
   "source": [
    "def activation(x):\n",
    "    return np.maximum(0,x)\n",
    "\n",
    "def der_act(x):\n",
    "    return np.rint(sigmoid(x))"
   ]
  },
  {
   "cell_type": "code",
   "execution_count": 85,
   "id": "91d9cd58",
   "metadata": {},
   "outputs": [],
   "source": [
    "def Neural_Network(X, y, epochs, learning_rate, no_neurons, no_layers, print_):\n",
    "    global loss_train, n_iter\n",
    "    loss_train = []\n",
    "    n_iter = []\n",
    "    \n",
    "    np.random.seed(1)\n",
    "#########################################################################################################   \n",
    "    weights_first = np.random.uniform(size=(X.shape[1], no_neurons))\n",
    "    \n",
    "    if no_layers > 1:\n",
    "        weights_hidden = []\n",
    "        for i in range(no_layers-1):\n",
    "            weights_hidden.append(np.random.uniform(size=(no_neurons, no_neurons)))\n",
    "    else:\n",
    "        pass\n",
    "    \n",
    "    weights_output = np.random.uniform(size=(no_neurons, 1))\n",
    "#########################################################################################################\n",
    "    for i in range(epochs):\n",
    "        hidden_layer_out = []\n",
    "        \n",
    "        for j in range(no_layers):\n",
    "            if j == 0:\n",
    "                hidden_layer_i = np.dot(X, weights_first)\n",
    "                hidden_layer_out.append(activation(hidden_layer_i))\n",
    "            else:\n",
    "                hidden_layer_i = np.dot(hidden_layer_out[-1], weights_hidden[j-1])\n",
    "                hidden_layer_out.append(activation(hidden_layer_i))\n",
    "        \n",
    "        output_layer_i = np.dot(hidden_layer_out[-1], weights_output)\n",
    "        output = activation(output_layer_i)\n",
    "#########################################################################################################\n",
    "        error = y.reshape(y.shape[0],1) - output\n",
    "        \n",
    "        if print_ == 'yes':\n",
    "            if i%1000==0 or i == epochs-1:\n",
    "                print('Epoch [{}/{}], Loss: {:.4f}'.format(i, epochs, np.sum(error*error)/y.shape[0]))\n",
    "                loss_train.append(np.sum(error*error)/y.shape[0])\n",
    "                n_iter.append(i)\n",
    "        elif print_ == 'no':\n",
    "            pass\n",
    "\n",
    "        d_output = error * der_act(output)\n",
    "        \n",
    "        d_hidden = []\n",
    "        for k in range(no_layers,0,-1):\n",
    "            if k == no_layers:\n",
    "                error_hidden = d_output.dot(weights_output.T)\n",
    "                d_hidden.append(error_hidden * der_act(hidden_layer_out[-1]))\n",
    "            else:\n",
    "                error_hidden = d_hidden[-1].dot(weights_hidden[k-1].T)\n",
    "                d_hidden.append(error_hidden * der_act(hidden_layer_out[k]))\n",
    "#########################################################################################################        \n",
    "        \n",
    "        weights_output += hidden_layer_out[-1].T.dot(d_output) * learning_rate\n",
    "        \n",
    "        for l in range(no_layers-2,-1,-1):\n",
    "            weights_hidden[l] += hidden_layer_out[l-1].T.dot(d_hidden[-l]) * learning_rate\n",
    "        \n",
    "        weights_first += X.T.dot(d_hidden[-1]) * learning_rate\n",
    "#########################################################################################################\n",
    "    \n",
    "    return output, weights_first, weights_hidden, weights_output"
   ]
  },
  {
   "cell_type": "code",
   "execution_count": 86,
   "id": "e9198469",
   "metadata": {},
   "outputs": [
    {
     "name": "stdout",
     "output_type": "stream",
     "text": [
      "Epoch [0/10000], Loss: 233685.0438\n",
      "Epoch [1000/10000], Loss: 205.7088\n",
      "Epoch [2000/10000], Loss: 187.9811\n",
      "Epoch [3000/10000], Loss: 180.3866\n",
      "Epoch [4000/10000], Loss: 175.4150\n",
      "Epoch [5000/10000], Loss: 171.5247\n",
      "Epoch [6000/10000], Loss: 168.2449\n",
      "Epoch [7000/10000], Loss: 165.3850\n",
      "Epoch [8000/10000], Loss: 162.8298\n",
      "Epoch [9000/10000], Loss: 160.5108\n",
      "Epoch [9999/10000], Loss: 158.3977\n"
     ]
    }
   ],
   "source": [
    "learning_rate = 0.00000001\n",
    "epochs = 10000\n",
    "no_neurons = 20\n",
    "no_layers = 3\n",
    "\n",
    "output, weights_first, weights_hidden, weights_output = Neural_Network(X_norm, y, epochs, learning_rate, no_neurons, no_layers, 'yes')"
   ]
  },
  {
   "cell_type": "code",
   "execution_count": 87,
   "id": "d9514df3",
   "metadata": {},
   "outputs": [
    {
     "data": {
      "image/png": "[encoded data removed]",
      "text/plain": [
       "<Figure size 432x288 with 1 Axes>"
      ]
     },
     "metadata": {
      "needs_background": "light"
     },
     "output_type": "display_data"
    }
   ],
   "source": [
    "plt.plot(n_iter, loss_train)\n",
    "plt.legend(['Train Loss'])\n",
    "plt.ylabel('MSE loss')\n",
    "plt.xlabel('n_iters')\n",
    "plt.title('Train Loss')\n",
    "plt.show()"
   ]
  },
  {
   "cell_type": "markdown",
   "id": "9996fd76",
   "metadata": {},
   "source": [
    "# 2d) PyTorch variable layers"
   ]
  },
  {
   "cell_type": "code",
   "execution_count": 147,
   "id": "405f35ee",
   "metadata": {},
   "outputs": [],
   "source": [
    "class PyTorch_NN(nn.Module):\n",
    "    def __init__(self, input_size, output_size, hidden_sizes):\n",
    "        super(PyTorch_NN, self).__init__()\n",
    "        \n",
    "        self.input_size = input_size\n",
    "        self.output_size = output_size\n",
    "        \n",
    "        hidden_layers = []\n",
    "        for size in hidden_sizes:\n",
    "            hidden_layers.extend([nn.Linear(input_size, size), nn.ReLU()])\n",
    "            input_size = size\n",
    "        hidden_layers.append(nn.Linear(input_size, output_size))\n",
    "        self.layer = nn.Sequential(*hidden_layers)\n",
    "    \n",
    "    def forward(self, x):\n",
    "        x = self.layer(x)\n",
    "        return x"
   ]
  },
  {
   "cell_type": "code",
   "execution_count": 148,
   "id": "85f4ed67",
   "metadata": {},
   "outputs": [],
   "source": [
    "input_size = X_norm.shape[1]\n",
    "output_size = 1\n",
    "hidden_sizes = [20]*3 # variable number of hidden layers\n",
    "\n",
    "model = PyTorch_NN(input_size, output_size, hidden_sizes)\n",
    "\n",
    "optimizer = optim.SGD(model.parameters(), lr=0.0001)\n",
    "criterion = nn.MSELoss()"
   ]
  },
  {
   "cell_type": "code",
   "execution_count": 149,
   "id": "a9897602",
   "metadata": {},
   "outputs": [],
   "source": [
    "torch.set_default_dtype(torch.float64)"
   ]
  },
  {
   "cell_type": "code",
   "execution_count": 150,
   "id": "4ce8fab1",
   "metadata": {},
   "outputs": [],
   "source": [
    "# X_norm = np.float32(X_norm)\n",
    "data_ = torch.from_numpy(X_norm).double()\n",
    "labels = torch.from_numpy(y)\n",
    "labels = torch.reshape(labels, (labels.shape[0], 1))"
   ]
  },
  {
   "cell_type": "code",
   "execution_count": 151,
   "id": "40113538",
   "metadata": {},
   "outputs": [
    {
     "name": "stdout",
     "output_type": "stream",
     "text": [
      "Epoch [0/50000], Loss: 1543.8766\n",
      "Epoch [5000/50000], Loss: 108.4946\n",
      "Epoch [10000/50000], Loss: 79.5908\n",
      "Epoch [15000/50000], Loss: 66.3819\n",
      "Epoch [20000/50000], Loss: 61.3081\n",
      "Epoch [25000/50000], Loss: 56.7852\n",
      "Epoch [30000/50000], Loss: 53.2172\n",
      "Epoch [35000/50000], Loss: 51.1076\n",
      "Epoch [40000/50000], Loss: 45.3958\n",
      "Epoch [45000/50000], Loss: 42.7797\n",
      "Epoch [49999/50000], Loss: 41.3177\n"
     ]
    }
   ],
   "source": [
    "num_epochs = 50000\n",
    "loss_train_nn = []\n",
    "n_iter = []\n",
    "\n",
    "for epoch in range(num_epochs):\n",
    "    optimizer.zero_grad()\n",
    "    outputs = model(data_)\n",
    "    loss = criterion(outputs, labels)\n",
    "    loss.backward()\n",
    "    optimizer.step()\n",
    "    \n",
    "    if epoch % 5000 == 0 or epoch == num_epochs-1:\n",
    "        print('Epoch [{}/{}], Loss: {:.4f}'.format(epoch, num_epochs, loss.item()))\n",
    "        loss_train_nn.append(loss.item())\n",
    "        n_iter.append(epoch)"
   ]
  },
  {
   "cell_type": "code",
   "execution_count": 152,
   "id": "27c90b78",
   "metadata": {},
   "outputs": [
    {
     "data": {
      "image/png": "[encoded data removed]",
      "text/plain": [
       "<Figure size 432x288 with 1 Axes>"
      ]
     },
     "metadata": {
      "needs_background": "light"
     },
     "output_type": "display_data"
    }
   ],
   "source": [
    "plt.plot(n_iter, loss_train_nn)\n",
    "plt.legend(['Train Loss'])\n",
    "plt.ylabel('MSE loss')\n",
    "plt.xlabel('n_iters')\n",
    "plt.title('Train Loss of Variable layer NN in PyTorch')\n",
    "plt.show()"
   ]
  },
  {
   "cell_type": "markdown",
   "id": "d6f5bfc8",
   "metadata": {},
   "source": [
    "# Depth vs Width of network"
   ]
  },
  {
   "cell_type": "code",
   "execution_count": 55,
   "id": "bc14f938",
   "metadata": {},
   "outputs": [
    {
     "name": "stderr",
     "output_type": "stream",
     "text": [
      "100%|██████████| 4/4 [03:05<00:00, 46.27s/it]\n"
     ]
    }
   ],
   "source": [
    "learning_rate = 0.00000001\n",
    "epochs = 10000\n",
    "no_layers = 2\n",
    "loss_1 = []\n",
    "\n",
    "for n in tqdm(range(10,50,10)):\n",
    "    output, weights_first, weights_hidden, weights_output = Neural_Network(X_norm, y, epochs, learning_rate, n, no_layers, 'no')\n",
    "    error = y.reshape(y.shape[0],1) - output\n",
    "    loss_1.append(np.sum(error*error)/y.shape[0])"
   ]
  },
  {
   "cell_type": "code",
   "execution_count": 56,
   "id": "a56da588",
   "metadata": {},
   "outputs": [
    {
     "data": {
      "image/png": "[encoded data removed]",
      "text/plain": [
       "<Figure size 432x288 with 1 Axes>"
      ]
     },
     "metadata": {
      "needs_background": "light"
     },
     "output_type": "display_data"
    }
   ],
   "source": [
    "plt.plot(list(range(10,50,10)), loss_1)\n",
    "plt.legend(['Train Loss'])\n",
    "plt.ylabel('MSE loss')\n",
    "plt.xlabel('no_neurons')\n",
    "plt.title('no_layers = 2')\n",
    "plt.show()"
   ]
  },
  {
   "cell_type": "code",
   "execution_count": 57,
   "id": "70d472b8",
   "metadata": {},
   "outputs": [
    {
     "name": "stderr",
     "output_type": "stream",
     "text": [
      "100%|██████████| 4/4 [04:21<00:00, 65.26s/it]\n"
     ]
    }
   ],
   "source": [
    "learning_rate = 0.00000001\n",
    "epochs = 10000\n",
    "no_layers = 3\n",
    "loss_2 = []\n",
    "\n",
    "for n in tqdm(range(10,50,10)):\n",
    "    output, weights_first, weights_hidden, weights_output = Neural_Network(X_norm, y, epochs, learning_rate, n, no_layers, 'no')\n",
    "    error = y.reshape(y.shape[0],1) - output\n",
    "    loss_2.append(np.sum(error*error)/y.shape[0])"
   ]
  },
  {
   "cell_type": "code",
   "execution_count": 58,
   "id": "cd6a1343",
   "metadata": {},
   "outputs": [
    {
     "data": {
      "image/png": "[encoded data removed]",
      "text/plain": [
       "<Figure size 432x288 with 1 Axes>"
      ]
     },
     "metadata": {
      "needs_background": "light"
     },
     "output_type": "display_data"
    }
   ],
   "source": [
    "plt.plot(list(range(10,50,10)), loss_2)\n",
    "plt.legend(['Train Loss'])\n",
    "plt.ylabel('MSE loss')\n",
    "plt.xlabel('no_neurons')\n",
    "plt.title('no_layers = 3')\n",
    "plt.show()"
   ]
  },
  {
   "cell_type": "markdown",
   "id": "cc6b34b8",
   "metadata": {},
   "source": [
    "### Observations:\n",
    "- With Cross-Validation we need to find the optimal depth and width of the fully-connected neural network for the particular problem statement in hand.\n",
    "- A deeper network can assist capture more nuanced correlations between the input and output and enables the learning of more sophisticated functions. The vanishing gradient problem, where gradients get too small to properly update the weights in prior layers during training, can result from increasing the depth of the network, though.\n",
    "- A wider network, on the other hand, with more neurons in each layer, can boost the model's capacity and enhance its capability to learn complex relationships. However, if the dataset is too little to support it, a broader network may also be more computationally expensive and prone to overfitting."
   ]
  },
  {
   "cell_type": "markdown",
   "id": "ed7b141c",
   "metadata": {},
   "source": [
    "$$\n",
    "---------Thank You---------\n",
    "$$"
   ]
  }
 ],
 "metadata": {
  "kernelspec": {
   "display_name": "Python 3",
   "language": "python",
   "name": "python3"
  },
  "language_info": {
   "codemirror_mode": {
    "name": "ipython",
    "version": 3
   },
   "file_extension": ".py",
   "mimetype": "text/x-python",
   "name": "python",
   "nbconvert_exporter": "python",
   "pygments_lexer": "ipython3",
   "version": "3.8.8"
  }
 },
 "nbformat": 4,
 "nbformat_minor": 5
}
