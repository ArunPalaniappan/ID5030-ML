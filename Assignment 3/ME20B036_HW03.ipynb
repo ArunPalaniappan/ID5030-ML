{
 "cells": [
  {
   "cell_type": "markdown",
   "id": "439a3c9c",
   "metadata": {},
   "source": [
    "# Importing Libraries"
   ]
  },
  {
   "cell_type": "code",
   "execution_count": 1,
   "id": "93438ead",
   "metadata": {},
   "outputs": [],
   "source": [
    "import torch\n",
    "import torch.nn.functional as F\n",
    "import torch.nn as nn\n",
    "from torch.utils.data import TensorDataset\n",
    "from torch.utils.data import DataLoader\n",
    "\n",
    "import numpy as np\n",
    "from numpy.linalg import inv\n",
    "import pandas as pd\n",
    "from tqdm import tqdm\n",
    "\n",
    "from sklearn.linear_model import LinearRegression\n",
    "from sklearn.metrics import r2_score, mean_squared_error\n",
    "from sklearn.model_selection import train_test_split\n",
    "\n",
    "import seaborn as sns\n",
    "import matplotlib.pyplot as plt\n",
    "%matplotlib inline\n",
    "\n",
    "import warnings\n",
    "warnings.filterwarnings(\"ignore\")"
   ]
  },
  {
   "cell_type": "markdown",
   "id": "0f93d9b3",
   "metadata": {},
   "source": [
    "# Reading the Data"
   ]
  },
  {
   "cell_type": "code",
   "execution_count": 2,
   "id": "03711c63",
   "metadata": {},
   "outputs": [
    {
     "data": {
      "text/html": [
       "<div>\n",
       "<style scoped>\n",
       "    .dataframe tbody tr th:only-of-type {\n",
       "        vertical-align: middle;\n",
       "    }\n",
       "\n",
       "    .dataframe tbody tr th {\n",
       "        vertical-align: top;\n",
       "    }\n",
       "\n",
       "    .dataframe thead th {\n",
       "        text-align: right;\n",
       "    }\n",
       "</style>\n",
       "<table border=\"1\" class=\"dataframe\">\n",
       "  <thead>\n",
       "    <tr style=\"text-align: right;\">\n",
       "      <th></th>\n",
       "      <th>Cement (component 1)(kg in a m^3 mixture)</th>\n",
       "      <th>Blast Furnace Slag (component 2)(kg in a m^3 mixture)</th>\n",
       "      <th>Fly Ash (component 3)(kg in a m^3 mixture)</th>\n",
       "      <th>Water  (component 4)(kg in a m^3 mixture)</th>\n",
       "      <th>Superplasticizer (component 5)(kg in a m^3 mixture)</th>\n",
       "      <th>Coarse Aggregate  (component 6)(kg in a m^3 mixture)</th>\n",
       "      <th>Fine Aggregate (component 7)(kg in a m^3 mixture)</th>\n",
       "      <th>Age (day)</th>\n",
       "      <th>Concrete compressive strength(MPa, megapascals)</th>\n",
       "    </tr>\n",
       "  </thead>\n",
       "  <tbody>\n",
       "    <tr>\n",
       "      <th>0</th>\n",
       "      <td>540.0</td>\n",
       "      <td>0.0</td>\n",
       "      <td>0.0</td>\n",
       "      <td>162.0</td>\n",
       "      <td>2.5</td>\n",
       "      <td>1040.0</td>\n",
       "      <td>676.0</td>\n",
       "      <td>28</td>\n",
       "      <td>79.986111</td>\n",
       "    </tr>\n",
       "    <tr>\n",
       "      <th>1</th>\n",
       "      <td>540.0</td>\n",
       "      <td>0.0</td>\n",
       "      <td>0.0</td>\n",
       "      <td>162.0</td>\n",
       "      <td>2.5</td>\n",
       "      <td>1055.0</td>\n",
       "      <td>676.0</td>\n",
       "      <td>28</td>\n",
       "      <td>61.887366</td>\n",
       "    </tr>\n",
       "    <tr>\n",
       "      <th>2</th>\n",
       "      <td>332.5</td>\n",
       "      <td>142.5</td>\n",
       "      <td>0.0</td>\n",
       "      <td>228.0</td>\n",
       "      <td>0.0</td>\n",
       "      <td>932.0</td>\n",
       "      <td>594.0</td>\n",
       "      <td>270</td>\n",
       "      <td>40.269535</td>\n",
       "    </tr>\n",
       "    <tr>\n",
       "      <th>3</th>\n",
       "      <td>332.5</td>\n",
       "      <td>142.5</td>\n",
       "      <td>0.0</td>\n",
       "      <td>228.0</td>\n",
       "      <td>0.0</td>\n",
       "      <td>932.0</td>\n",
       "      <td>594.0</td>\n",
       "      <td>365</td>\n",
       "      <td>41.052780</td>\n",
       "    </tr>\n",
       "    <tr>\n",
       "      <th>4</th>\n",
       "      <td>198.6</td>\n",
       "      <td>132.4</td>\n",
       "      <td>0.0</td>\n",
       "      <td>192.0</td>\n",
       "      <td>0.0</td>\n",
       "      <td>978.4</td>\n",
       "      <td>825.5</td>\n",
       "      <td>360</td>\n",
       "      <td>44.296075</td>\n",
       "    </tr>\n",
       "  </tbody>\n",
       "</table>\n",
       "</div>"
      ],
      "text/plain": [
       "   Cement (component 1)(kg in a m^3 mixture)  \\\n",
       "0                                      540.0   \n",
       "1                                      540.0   \n",
       "2                                      332.5   \n",
       "3                                      332.5   \n",
       "4                                      198.6   \n",
       "\n",
       "   Blast Furnace Slag (component 2)(kg in a m^3 mixture)  \\\n",
       "0                                                0.0       \n",
       "1                                                0.0       \n",
       "2                                              142.5       \n",
       "3                                              142.5       \n",
       "4                                              132.4       \n",
       "\n",
       "   Fly Ash (component 3)(kg in a m^3 mixture)  \\\n",
       "0                                         0.0   \n",
       "1                                         0.0   \n",
       "2                                         0.0   \n",
       "3                                         0.0   \n",
       "4                                         0.0   \n",
       "\n",
       "   Water  (component 4)(kg in a m^3 mixture)  \\\n",
       "0                                      162.0   \n",
       "1                                      162.0   \n",
       "2                                      228.0   \n",
       "3                                      228.0   \n",
       "4                                      192.0   \n",
       "\n",
       "   Superplasticizer (component 5)(kg in a m^3 mixture)  \\\n",
       "0                                                2.5     \n",
       "1                                                2.5     \n",
       "2                                                0.0     \n",
       "3                                                0.0     \n",
       "4                                                0.0     \n",
       "\n",
       "   Coarse Aggregate  (component 6)(kg in a m^3 mixture)  \\\n",
       "0                                             1040.0      \n",
       "1                                             1055.0      \n",
       "2                                              932.0      \n",
       "3                                              932.0      \n",
       "4                                              978.4      \n",
       "\n",
       "   Fine Aggregate (component 7)(kg in a m^3 mixture)  Age (day)  \\\n",
       "0                                              676.0         28   \n",
       "1                                              676.0         28   \n",
       "2                                              594.0        270   \n",
       "3                                              594.0        365   \n",
       "4                                              825.5        360   \n",
       "\n",
       "   Concrete compressive strength(MPa, megapascals)   \n",
       "0                                         79.986111  \n",
       "1                                         61.887366  \n",
       "2                                         40.269535  \n",
       "3                                         41.052780  \n",
       "4                                         44.296075  "
      ]
     },
     "execution_count": 2,
     "metadata": {},
     "output_type": "execute_result"
    }
   ],
   "source": [
    "data = pd.read_excel('Concrete_Data.xls')\n",
    "data.head()"
   ]
  },
  {
   "cell_type": "markdown",
   "id": "2c7d28fb",
   "metadata": {},
   "source": [
    "# Train-Test Split"
   ]
  },
  {
   "cell_type": "code",
   "execution_count": 3,
   "id": "a4b6be15",
   "metadata": {},
   "outputs": [],
   "source": [
    "X = data.drop(columns = ['Concrete compressive strength(MPa, megapascals) '])\n",
    "X_0 = [1]*len(X)\n",
    "X['X_0'] = X_0\n",
    "\n",
    "y = data['Concrete compressive strength(MPa, megapascals) ']"
   ]
  },
  {
   "cell_type": "code",
   "execution_count": 4,
   "id": "ee6dd4f1",
   "metadata": {},
   "outputs": [],
   "source": [
    "X_train, X_test, y_train, y_test = train_test_split(X, y, test_size=0.3, random_state=42)"
   ]
  },
  {
   "cell_type": "markdown",
   "id": "b8359bbf",
   "metadata": {},
   "source": [
    "# 1a) Batch Gradient Descent Equations"
   ]
  },
  {
   "cell_type": "markdown",
   "id": "07b4d684",
   "metadata": {},
   "source": [
    "$$\n",
    "J(\\theta) = \\frac{1}{2m}\\sum_{i=1}^m (h_\\theta(x^{(i)})-y^{(i)})^2 \\\\  \n",
    "\\frac{\\partial}{\\partial \\theta_j}J(\\theta) = \\frac{1}{m} \\sum_{i=1}^m (h_\\theta(x^{(i)})-y^{(i)})x^{(i)}_{(j)} \\\\\n",
    "\\theta := \\theta -\\alpha \\frac{\\delta}{\\delta \\theta}J(\\theta)\n",
    "$$"
   ]
  },
  {
   "cell_type": "code",
   "execution_count": 5,
   "id": "973d440a",
   "metadata": {},
   "outputs": [],
   "source": [
    "def gradient_descent(X, y, weights, alpha, n_iters, X_test, y_test):\n",
    "    m = X.shape[0]\n",
    "    i=1\n",
    "    global loss_train, loss_test, iter\n",
    "    loss_train = []\n",
    "    loss_test = []\n",
    "    iter = []\n",
    "    for j in range(n_iters):\n",
    "        predictions = X @ weights\n",
    "        errors = predictions - y\n",
    "        gradient = X.T @ errors / m\n",
    "        weights -= alpha * gradient\n",
    "        \n",
    "        loss = mean_squared_error(y_train, predictions)\n",
    "        \n",
    "        if (i == 1) or (i%10 == 0) or (i == n_iters):\n",
    "            if (i == 1) or (i%1000 == 0) or (i == n_iters):\n",
    "                print('Epoch [{}/{}], Loss: {:.4f}'.format(i, n_iters, loss))\n",
    "            \n",
    "            loss_train.append(loss)\n",
    "            \n",
    "            preds_test = X_test @ weights\n",
    "            loss_t = mean_squared_error(preds_test, y_test)\n",
    "            loss_test.append(loss_t)\n",
    "            \n",
    "            iter.append(i)\n",
    "        i+=1\n",
    "    return weights"
   ]
  },
  {
   "cell_type": "code",
   "execution_count": 6,
   "id": "9e7c13d5",
   "metadata": {},
   "outputs": [
    {
     "name": "stdout",
     "output_type": "stream",
     "text": [
      "Epoch [1/10000], Loss: 6337808.8948\n",
      "Epoch [1000/10000], Loss: 462.1389\n",
      "Epoch [2000/10000], Loss: 239.9538\n",
      "Epoch [3000/10000], Loss: 182.4445\n",
      "Epoch [4000/10000], Loss: 156.4729\n",
      "Epoch [5000/10000], Loss: 142.5011\n",
      "Epoch [6000/10000], Loss: 134.6793\n",
      "Epoch [7000/10000], Loss: 130.2297\n",
      "Epoch [8000/10000], Loss: 127.6523\n",
      "Epoch [9000/10000], Loss: 126.1172\n",
      "Epoch [10000/10000], Loss: 125.1632\n"
     ]
    }
   ],
   "source": [
    "weights = np.random.randn(X.shape[1])\n",
    "weights = gradient_descent(X_train, y_train, weights, 0.0000005, 10000, X_test, y_test)"
   ]
  },
  {
   "cell_type": "code",
   "execution_count": 7,
   "id": "f86ab458",
   "metadata": {},
   "outputs": [
    {
     "data": {
      "text/plain": [
       "Cement (component 1)(kg in a m^3 mixture)                0.138887\n",
       "Blast Furnace Slag (component 2)(kg in a m^3 mixture)    0.130919\n",
       "Fly Ash (component 3)(kg in a m^3 mixture)               0.131333\n",
       "Water  (component 4)(kg in a m^3 mixture)               -0.252998\n",
       "Superplasticizer (component 5)(kg in a m^3 mixture)     -0.753000\n",
       "Coarse Aggregate  (component 6)(kg in a m^3 mixture)    -0.000530\n",
       "Fine Aggregate (component 7)(kg in a m^3 mixture)        0.033910\n",
       "Age (day)                                                0.112475\n",
       "X_0                                                     -0.197762\n",
       "dtype: float64"
      ]
     },
     "execution_count": 7,
     "metadata": {},
     "output_type": "execute_result"
    }
   ],
   "source": [
    "weights"
   ]
  },
  {
   "cell_type": "code",
   "execution_count": 8,
   "id": "489f9caf",
   "metadata": {},
   "outputs": [
    {
     "name": "stdout",
     "output_type": "stream",
     "text": [
      "mean_squared_error_train = 125.16242770140252\n",
      "r2_score_train = 0.5561028846172119 \n",
      "\n",
      "mean_squared_error_test = 116.98398010444645\n",
      "r2_score_test = 0.5676517079656516\n"
     ]
    }
   ],
   "source": [
    "y_pred_train = X_train @ weights\n",
    "\n",
    "y_pred_test = X_test @ weights\n",
    "\n",
    "r2score_train = r2_score(y_train, y_pred_train)\n",
    "mse_train_lin = mean_squared_error(y_train, y_pred_train)\n",
    "print('mean_squared_error_train =', mse_train_lin)\n",
    "print('r2_score_train =', r2score_train,'\\n')\n",
    "\n",
    "r2score_test = r2_score(y_test, y_pred_test)\n",
    "mse_test_lin = mean_squared_error(y_test, y_pred_test)\n",
    "print('mean_squared_error_test =', mse_test_lin)\n",
    "print('r2_score_test =', r2score_test)"
   ]
  },
  {
   "cell_type": "code",
   "execution_count": 9,
   "id": "73e5a2dd",
   "metadata": {},
   "outputs": [
    {
     "data": {
      "image/png": "[encoded data removed]",
      "text/plain": [
       "<Figure size 432x288 with 1 Axes>"
      ]
     },
     "metadata": {
      "needs_background": "light"
     },
     "output_type": "display_data"
    }
   ],
   "source": [
    "plt.plot(iter[1:], loss_train[1:])\n",
    "plt.plot(iter[1:], loss_test[1:])\n",
    "plt.legend(['Train Loss', 'Test Loss'])\n",
    "plt.ylabel('MSE loss')\n",
    "plt.xlabel('n_iters')\n",
    "plt.title('Train and Test Loss (BatchGD in python w/o Normalization)')\n",
    "plt.show()"
   ]
  },
  {
   "cell_type": "markdown",
   "id": "df2ce2ab",
   "metadata": {},
   "source": [
    "- **We can observe that for higher learning rates [0.000001 to 0.1], the gradients explode and diverge to Infinity**\n",
    "- **The model convereges for learning rates in the order of $10^{-7}$**"
   ]
  },
  {
   "cell_type": "markdown",
   "id": "3214b5f2",
   "metadata": {},
   "source": [
    "# 1b) Batch Gradient Descent in Python with Data Normalization"
   ]
  },
  {
   "cell_type": "code",
   "execution_count": 10,
   "id": "2937798f",
   "metadata": {},
   "outputs": [],
   "source": [
    "X = data.drop(columns = ['Concrete compressive strength(MPa, megapascals) '])\n",
    "y = data['Concrete compressive strength(MPa, megapascals) ']\n",
    "X = X.astype(np.float32)\n",
    "y = y.astype(np.float32)\n",
    "\n",
    "X_train, X_test, y_train, y_test = train_test_split(X, y, test_size=0.3, random_state=42)\n",
    "\n",
    "X_train_norm=(X_train-X_train.mean())/X_train.std() #Standard Normalization\n",
    "X_0 = [1]*len(X_train_norm)\n",
    "X_train_norm['X_0'] = X_0\n",
    "\n",
    "X_test_norm=(X_test-X_test.mean())/X_test.std() #Standard Normalization\n",
    "X_0_ = [1]*len(X_test_norm)\n",
    "X_test_norm['X_0'] = X_0_"
   ]
  },
  {
   "cell_type": "code",
   "execution_count": 11,
   "id": "57c45b44",
   "metadata": {},
   "outputs": [
    {
     "name": "stdout",
     "output_type": "stream",
     "text": [
      "Epoch [1/1500], Loss: 1573.5406\n",
      "Epoch [1000/1500], Loss: 114.2139\n",
      "Epoch [1500/1500], Loss: 112.5156\n"
     ]
    }
   ],
   "source": [
    "weights = np.random.randn(X_train_norm.shape[1])\n",
    "weights = gradient_descent(X_train_norm, y_train, weights, 0.005, 1500, X_test_norm, y_test)"
   ]
  },
  {
   "cell_type": "code",
   "execution_count": 12,
   "id": "35a6571b",
   "metadata": {},
   "outputs": [
    {
     "name": "stdout",
     "output_type": "stream",
     "text": [
      "mean_squared_error_train = 112.51309858980213\n",
      "r2_score_train = 0.6009646057209561 \n",
      "\n",
      "mean_squared_error_test = 113.75906140356625\n",
      "r2_score_test = 0.5795703254585598\n"
     ]
    }
   ],
   "source": [
    "y_pred_train = X_train_norm @ weights\n",
    "\n",
    "y_pred_test = X_test_norm @ weights\n",
    "\n",
    "r2score_train = r2_score(y_train, y_pred_train)\n",
    "mse_train_lin = mean_squared_error(y_train, y_pred_train)\n",
    "print('mean_squared_error_train =', mse_train_lin)\n",
    "print('r2_score_train =', r2score_train,'\\n')\n",
    "\n",
    "r2score_test = r2_score(y_test, y_pred_test)\n",
    "mse_test_lin = mean_squared_error(y_test, y_pred_test)\n",
    "print('mean_squared_error_test =', mse_test_lin)\n",
    "print('r2_score_test =', r2score_test)"
   ]
  },
  {
   "cell_type": "code",
   "execution_count": 13,
   "id": "3c9a1f30",
   "metadata": {},
   "outputs": [
    {
     "data": {
      "image/png": "[encoded data removed]",
      "text/plain": [
       "<Figure size 432x288 with 1 Axes>"
      ]
     },
     "metadata": {
      "needs_background": "light"
     },
     "output_type": "display_data"
    }
   ],
   "source": [
    "plt.plot(iter, loss_train)\n",
    "plt.plot(iter, loss_test)\n",
    "plt.legend(['Train Loss', 'Test Loss'])\n",
    "plt.ylabel('MSE loss')\n",
    "plt.xlabel('n_iters')\n",
    "plt.title('Train and Test Loss (BatchGD in python w Normalization)')\n",
    "plt.show()"
   ]
  },
  {
   "cell_type": "markdown",
   "id": "84015446",
   "metadata": {},
   "source": [
    "- **With Normalization we can observe that, the weights converge faster with less number of epochs**\n",
    "- **With Normalization we can notice that the gradients don't explode for larger values of alpha[0.0001 to 0.01]**"
   ]
  },
  {
   "cell_type": "markdown",
   "id": "b7c0508a",
   "metadata": {},
   "source": [
    "# 1c) (a) pytorch implementation of BGD"
   ]
  },
  {
   "cell_type": "code",
   "execution_count": 14,
   "id": "05625ab1",
   "metadata": {},
   "outputs": [],
   "source": [
    "X = data.drop(columns = ['Concrete compressive strength(MPa, megapascals) '])\n",
    "y = data['Concrete compressive strength(MPa, megapascals) ']\n",
    "X = X.astype(np.float32)\n",
    "y = y.astype(np.float32)"
   ]
  },
  {
   "cell_type": "code",
   "execution_count": 15,
   "id": "c313d316",
   "metadata": {},
   "outputs": [],
   "source": [
    "X1 = X.to_numpy()\n",
    "y1 = y.to_numpy()\n",
    "\n",
    "inputs = torch.from_numpy(X1) # Converting to torch tensors\n",
    "target = torch.from_numpy(y1) # Converting to torch tensors"
   ]
  },
  {
   "cell_type": "code",
   "execution_count": 16,
   "id": "d9394b82",
   "metadata": {},
   "outputs": [],
   "source": [
    "X_train, X_test, y_train, y_test = train_test_split(inputs, target, test_size=0.3, random_state=42)"
   ]
  },
  {
   "cell_type": "code",
   "execution_count": 17,
   "id": "af41d401",
   "metadata": {},
   "outputs": [],
   "source": [
    "def model(x):\n",
    "    return x @ w.t() + b"
   ]
  },
  {
   "cell_type": "code",
   "execution_count": 18,
   "id": "40102bc7",
   "metadata": {},
   "outputs": [],
   "source": [
    "def mse(t1, t2):\n",
    "    diff = t1 - t2\n",
    "    return torch.sum(diff * diff) / diff.numel()\n",
    "\n",
    "def r2s(t1, t2):\n",
    "    t1 = t1.detach().numpy()\n",
    "    t2 = t2.detach().numpy()\n",
    "    return r2_score(t1, t2)"
   ]
  },
  {
   "cell_type": "code",
   "execution_count": 19,
   "id": "439d41ca",
   "metadata": {},
   "outputs": [],
   "source": [
    "# Compute gradients\n",
    "def BatchGradientDescent(X_train, y_train, w, b, alpha, n_iters, X_test, y_test):\n",
    "    i=1\n",
    "    global loss_train, loss_test, iter\n",
    "    loss_train = []\n",
    "    loss_test = []\n",
    "    iter = []\n",
    "\n",
    "    for j in range(n_iters):\n",
    "        \n",
    "        preds = model(X_train)\n",
    "        loss = mse(preds, y_train)\n",
    "        \n",
    "        if (i == 1) or (i%10 == 0) or (i == n_iters):\n",
    "            if (i == 1) or (i%1000 == 0) or (i == n_iters):\n",
    "                print('Epoch [{}/{}], Loss: {:.4f}'.format(i, n_iters, loss))\n",
    "            \n",
    "            loss_train.append(loss)\n",
    "            \n",
    "            preds_test = model(X_test)\n",
    "            loss_t = mse(preds_test, y_test)\n",
    "            loss_test.append(loss_t)\n",
    "            \n",
    "            iter.append(i)\n",
    "        loss.backward()\n",
    "        i+=1\n",
    "        \n",
    "        with torch.no_grad():\n",
    "            w -= w.grad * alpha\n",
    "            b -= b.grad * alpha\n",
    "            w.grad.zero_()\n",
    "            b.grad.zero_()"
   ]
  },
  {
   "cell_type": "code",
   "execution_count": 20,
   "id": "02355ff1",
   "metadata": {},
   "outputs": [
    {
     "name": "stdout",
     "output_type": "stream",
     "text": [
      "Epoch [1/6000], Loss: 2822415.2500\n",
      "Epoch [1000/6000], Loss: 712.1735\n",
      "Epoch [2000/6000], Loss: 414.5108\n",
      "Epoch [3000/6000], Loss: 334.5761\n",
      "Epoch [4000/6000], Loss: 309.6476\n",
      "Epoch [5000/6000], Loss: 301.6294\n",
      "Epoch [6000/6000], Loss: 298.8491\n"
     ]
    }
   ],
   "source": [
    "# Initializing weights and bias\n",
    "w = torch.randn(1, X_train.shape[1], requires_grad=True)\n",
    "b = torch.randn(1, requires_grad=True)\n",
    "\n",
    "BatchGradientDescent(X_train, y_train, w, b, 5e-7, 6000, X_test, y_test)"
   ]
  },
  {
   "cell_type": "code",
   "execution_count": 21,
   "id": "694e5a9c",
   "metadata": {},
   "outputs": [
    {
     "data": {
      "image/png": "[encoded data removed]",
      "text/plain": [
       "<Figure size 432x288 with 1 Axes>"
      ]
     },
     "metadata": {
      "needs_background": "light"
     },
     "output_type": "display_data"
    }
   ],
   "source": [
    "loss_train_values = [i.detach().numpy() for i in loss_train]\n",
    "loss_test_values = [i.detach().numpy() for i in loss_test]\n",
    "plt.plot(iter[1:], loss_train_values[1:])\n",
    "plt.plot(iter[1:], loss_test_values[1:])\n",
    "plt.legend(['Train Loss', 'Test Loss'])\n",
    "plt.ylabel('MSE loss')\n",
    "plt.xlabel('n_iters')\n",
    "plt.title('Train and Test Loss')\n",
    "plt.show()"
   ]
  },
  {
   "cell_type": "markdown",
   "id": "4c0676d5",
   "metadata": {},
   "source": [
    "- We can observe that there are two minimas for this optimization problem (one local and another global) and it depends on the initialization of weights"
   ]
  },
  {
   "cell_type": "markdown",
   "id": "b6ca9163",
   "metadata": {},
   "source": [
    "# 1c) (b) pytorch implementation of BGD with Normalization"
   ]
  },
  {
   "cell_type": "code",
   "execution_count": 22,
   "id": "95d26c21",
   "metadata": {},
   "outputs": [],
   "source": [
    "X = data.drop(columns = ['Concrete compressive strength(MPa, megapascals) '])\n",
    "y = data['Concrete compressive strength(MPa, megapascals) ']\n",
    "\n",
    "X_norm=(X-X.mean())/X.std() #Standard Normalization\n",
    "\n",
    "X_norm = X_norm.astype(np.float32)\n",
    "y = y.astype(np.float32)"
   ]
  },
  {
   "cell_type": "code",
   "execution_count": 23,
   "id": "e41012be",
   "metadata": {},
   "outputs": [],
   "source": [
    "X1 = X_norm.to_numpy()\n",
    "y1 = y.to_numpy()\n",
    "\n",
    "inputs = torch.from_numpy(X1)\n",
    "target = torch.from_numpy(y1)"
   ]
  },
  {
   "cell_type": "code",
   "execution_count": 24,
   "id": "23210116",
   "metadata": {},
   "outputs": [],
   "source": [
    "X_train_norm, X_test_norm, y_train_norm, y_test_norm = train_test_split(inputs, target, test_size=0.3, random_state=42)"
   ]
  },
  {
   "cell_type": "code",
   "execution_count": 25,
   "id": "d71e49eb",
   "metadata": {},
   "outputs": [
    {
     "name": "stdout",
     "output_type": "stream",
     "text": [
      "Epoch [1/10000], Loss: 1464.8721\n",
      "Epoch [1000/10000], Loss: 281.9628\n",
      "Epoch [2000/10000], Loss: 281.9627\n",
      "Epoch [3000/10000], Loss: 281.9627\n",
      "Epoch [4000/10000], Loss: 281.9627\n",
      "Epoch [5000/10000], Loss: 281.9627\n",
      "Epoch [6000/10000], Loss: 281.9627\n",
      "Epoch [7000/10000], Loss: 281.9627\n",
      "Epoch [8000/10000], Loss: 281.9627\n",
      "Epoch [9000/10000], Loss: 281.9627\n",
      "Epoch [10000/10000], Loss: 281.9627\n"
     ]
    }
   ],
   "source": [
    "# Initializing weights and bias\n",
    "w = torch.randn(1, X_train_norm.shape[1], requires_grad=True)\n",
    "b = torch.randn(1, requires_grad=True)\n",
    "\n",
    "BatchGradientDescent(X_train_norm, y_train_norm, w, b, 5e-2, 10000, X_test_norm, y_test_norm)"
   ]
  },
  {
   "cell_type": "code",
   "execution_count": 26,
   "id": "df41c0d4",
   "metadata": {},
   "outputs": [
    {
     "data": {
      "image/png": "[encoded data removed]",
      "text/plain": [
       "<Figure size 432x288 with 1 Axes>"
      ]
     },
     "metadata": {
      "needs_background": "light"
     },
     "output_type": "display_data"
    }
   ],
   "source": [
    "loss_train_values = [i.detach().numpy() for i in loss_train]\n",
    "loss_test_values = [i.detach().numpy() for i in loss_test]\n",
    "plt.plot(iter[0:], loss_train_values[0:])\n",
    "plt.plot(iter[0:], loss_test_values[0:])\n",
    "plt.legend(['Train Loss', 'Test Loss'])\n",
    "plt.ylabel('MSE loss')\n",
    "plt.xlabel('n_iters')\n",
    "plt.title('Train and Test Loss')\n",
    "plt.show()"
   ]
  },
  {
   "cell_type": "markdown",
   "id": "54361f23",
   "metadata": {},
   "source": [
    "- **With Normalization we can observe that, the weights converge faster with less number of epochs**"
   ]
  },
  {
   "cell_type": "markdown",
   "id": "a999440a",
   "metadata": {},
   "source": [
    "# 2) (a) SGD, Scratch, normalization"
   ]
  },
  {
   "cell_type": "code",
   "execution_count": 27,
   "id": "805447ed",
   "metadata": {},
   "outputs": [],
   "source": [
    "X = data.drop(columns = ['Concrete compressive strength(MPa, megapascals) '])\n",
    "y = data['Concrete compressive strength(MPa, megapascals) ']\n",
    "X = X.astype(np.float32)\n",
    "y = y.astype(np.float32)\n",
    "\n",
    "X_train, X_test, y_train, y_test = train_test_split(X, y, test_size=0.3, random_state=42)\n",
    "\n",
    "X_train_norm=(X_train-X_train.mean())/X_train.std() #Standard Normalization\n",
    "X_0 = [1]*len(X_train_norm)\n",
    "X_train_norm['X_0'] = X_0\n",
    "\n",
    "y_train = y_train.to_numpy()\n",
    "\n",
    "X_test_norm=(X_test-X_test.mean())/X_test.std() #Standard Normalization\n",
    "X_0_ = [1]*len(X_test_norm)\n",
    "X_test_norm['X_0'] = X_0_\n",
    "\n",
    "y_test = y_test.to_numpy()"
   ]
  },
  {
   "cell_type": "code",
   "execution_count": 28,
   "id": "e709ca01",
   "metadata": {},
   "outputs": [],
   "source": [
    "def create_mini_batches(X, y, batch_size):\n",
    "    mini_batches = []\n",
    "    datastack = np.hstack((X, y.reshape((-1, 1))))\n",
    "    np.random.shuffle(datastack)\n",
    "    n_minibatches = datastack.shape[0] // batch_size\n",
    "    i = 0\n",
    "\n",
    "    for i in range(n_minibatches):\n",
    "        try:\n",
    "            mini_batch = datastack[i * batch_size:(i + 1)*batch_size]\n",
    "            X_mini = mini_batch[:, :-1]\n",
    "            Y_mini = mini_batch[:, -1]\n",
    "            mini_batches.append((X_mini, Y_mini))\n",
    "        except:\n",
    "            mini_batch = datastack[i * batch_size:]\n",
    "            X_mini = mini_batch[:, :-1]\n",
    "            Y_mini = mini_batch[:, -1]\n",
    "            mini_batches.append((X_mini, Y_mini))\n",
    "    return mini_batches"
   ]
  },
  {
   "cell_type": "code",
   "execution_count": 29,
   "id": "69833f02",
   "metadata": {},
   "outputs": [],
   "source": [
    "def stochastic_gradient_descent(X, y, weights, alpha, n_iters, batch_size, X_test, y_test):\n",
    "    m = X.shape[0]\n",
    "    k = batch_size\n",
    "    i=1\n",
    "    global loss_train, loss_test, iter\n",
    "    loss_train = []\n",
    "    loss_test = []\n",
    "    iter = []\n",
    "    for j in range(n_iters):\n",
    "        \n",
    "        mini_batches = create_mini_batches(X, y, k)\n",
    "            \n",
    "        for mini_batch in mini_batches:\n",
    "\n",
    "            X_mini, y_mini = mini_batch\n",
    "\n",
    "            predictions = X_mini @ weights\n",
    "            errors = predictions - y_mini\n",
    "            gradient = X_mini.T @ errors / k\n",
    "            weights -= alpha * gradient\n",
    "        \n",
    "        predictions = X @ weights\n",
    "        \n",
    "        loss = mean_squared_error(y, predictions)\n",
    "        \n",
    "        if (i == 1) or (i%10 == 0) or (i == n_iters):\n",
    "            if (i == 1) or (i%1000 == 0) or (i == n_iters):\n",
    "                print('Epoch [{}/{}], Loss: {:.4f}'.format(i, n_iters, loss))\n",
    "            \n",
    "            loss_train.append(loss)\n",
    "            \n",
    "            preds_test = X_test @ weights\n",
    "            loss_t = mean_squared_error(preds_test, y_test)\n",
    "            loss_test.append(loss_t)\n",
    "            \n",
    "            iter.append(i)\n",
    "        i+=1\n",
    "    return weights"
   ]
  },
  {
   "cell_type": "code",
   "execution_count": 30,
   "id": "b6a1f11f",
   "metadata": {},
   "outputs": [
    {
     "name": "stdout",
     "output_type": "stream",
     "text": [
      "Epoch [1/6000], Loss: 798.1983\n",
      "Epoch [1000/6000], Loss: 107.2702\n",
      "Epoch [2000/6000], Loss: 107.2605\n",
      "Epoch [3000/6000], Loss: 107.2607\n",
      "Epoch [4000/6000], Loss: 107.2617\n",
      "Epoch [5000/6000], Loss: 107.2600\n",
      "Epoch [6000/6000], Loss: 107.2687\n"
     ]
    }
   ],
   "source": [
    "weights = np.random.randn(X_train_norm.shape[1])\n",
    "weights = stochastic_gradient_descent(X_train_norm, y_train, weights, 0.0005, 6000, 1, X_test_norm, y_test)"
   ]
  },
  {
   "cell_type": "code",
   "execution_count": 31,
   "id": "0cf06930",
   "metadata": {},
   "outputs": [
    {
     "data": {
      "image/png": "[encoded data removed]",
      "text/plain": [
       "<Figure size 576x360 with 1 Axes>"
      ]
     },
     "metadata": {
      "needs_background": "light"
     },
     "output_type": "display_data"
    }
   ],
   "source": [
    "plt.figure(figsize=(8, 5))\n",
    "a = 1\n",
    "b = 6000\n",
    "plt.plot(iter[a:b], loss_train[a:b])\n",
    "plt.plot(iter[a:b], loss_test[a:b])\n",
    "plt.legend(['Train Loss', 'Test Loss'])\n",
    "plt.ylabel('MSE loss')\n",
    "plt.xlabel('n_iters')\n",
    "plt.title('Train and Test Loss')\n",
    "plt.show()"
   ]
  },
  {
   "cell_type": "markdown",
   "id": "ba472b68",
   "metadata": {},
   "source": [
    "- **We can see that the convergence is hapazard with a lot of noise as only 1 instance is used every step in SGD**"
   ]
  },
  {
   "cell_type": "markdown",
   "id": "02dab9ac",
   "metadata": {},
   "source": [
    "# 2) (a) SGD, PyTorch, normalization"
   ]
  },
  {
   "cell_type": "code",
   "execution_count": 32,
   "id": "1b21c437",
   "metadata": {},
   "outputs": [],
   "source": [
    "X = data.drop(columns = ['Concrete compressive strength(MPa, megapascals) '])\n",
    "y = data['Concrete compressive strength(MPa, megapascals) ']\n",
    "\n",
    "X_norm=(X-X.mean())/X.std() #Standard Normalization\n",
    "\n",
    "X_norm = X_norm.astype(np.float32)\n",
    "y = y.astype(np.float32)"
   ]
  },
  {
   "cell_type": "code",
   "execution_count": 33,
   "id": "167e78f4",
   "metadata": {},
   "outputs": [],
   "source": [
    "X1 = X_norm.to_numpy()\n",
    "y1 = y.to_numpy()\n",
    "\n",
    "inputs = torch.from_numpy(X1)\n",
    "target = torch.from_numpy(y1)"
   ]
  },
  {
   "cell_type": "code",
   "execution_count": 34,
   "id": "2fe39cd8",
   "metadata": {},
   "outputs": [],
   "source": [
    "X_train_norm, X_test_norm, y_train_norm, y_test_norm = train_test_split(inputs, target, test_size=0.3, random_state=42)"
   ]
  },
  {
   "cell_type": "code",
   "execution_count": 35,
   "id": "a5e0bbb9",
   "metadata": {},
   "outputs": [],
   "source": [
    "batch_size = 1 #SGD\n",
    "train_ds = TensorDataset(inputs, target)\n",
    "train_dl = DataLoader(train_ds, batch_size, shuffle=True)"
   ]
  },
  {
   "cell_type": "code",
   "execution_count": 36,
   "id": "e0f6e97b",
   "metadata": {},
   "outputs": [
    {
     "name": "stdout",
     "output_type": "stream",
     "text": [
      "Parameter containing:\n",
      "tensor([[-0.2901,  0.2853,  0.2326,  0.0389, -0.0443, -0.3515, -0.1053,  0.0948]],\n",
      "       requires_grad=True)\n",
      "Parameter containing:\n",
      "tensor([-0.0207], requires_grad=True)\n"
     ]
    }
   ],
   "source": [
    "model = nn.Linear(X_train_norm.shape[1], 1) # Model\n",
    "print(model.weight)\n",
    "print(model.bias)"
   ]
  },
  {
   "cell_type": "code",
   "execution_count": 37,
   "id": "d43694f3",
   "metadata": {},
   "outputs": [],
   "source": [
    "loss_fn = F.mse_loss"
   ]
  },
  {
   "cell_type": "code",
   "execution_count": 38,
   "id": "a0921650",
   "metadata": {},
   "outputs": [],
   "source": [
    "def StochasticGradientDescent(num_epochs, alpha, model, loss_fn, train_dl):\n",
    "    \n",
    "    opt = torch.optim.SGD(model.parameters(), lr=alpha)\n",
    "\n",
    "    global loss_train, loss_test, iter\n",
    "    loss_train = []\n",
    "    iter = []\n",
    "    i=1\n",
    "    \n",
    "    for epoch in tqdm(range(num_epochs)):\n",
    "        \n",
    "        for xb,yb in train_dl:            \n",
    "            pred = model(xb)           \n",
    "            loss = loss_fn(pred, yb)          \n",
    "            loss.backward()  \n",
    "            opt.step()\n",
    "            opt.zero_grad()\n",
    "        \n",
    "        if (i == 1) or (i%10 == 0) or (i == num_epochs):\n",
    "            if (i == 1) or (i%250 == 0) or (i == num_epochs):\n",
    "                print('Epoch [{}/{}], Loss: {:.4f}'.format(epoch+1, num_epochs, loss.item()))\n",
    "            loss_train.append(loss)\n",
    "            iter.append(i)\n",
    "        i+=1"
   ]
  },
  {
   "cell_type": "code",
   "execution_count": 39,
   "id": "ed072410",
   "metadata": {},
   "outputs": [
    {
     "name": "stderr",
     "output_type": "stream",
     "text": [
      "  0%|          | 1/1000 [00:00<04:53,  3.40it/s]"
     ]
    },
    {
     "name": "stdout",
     "output_type": "stream",
     "text": [
      "Epoch [1/1000], Loss: 1580.2745\n"
     ]
    },
    {
     "name": "stderr",
     "output_type": "stream",
     "text": [
      " 25%|██▌       | 250/1000 [01:03<03:02,  4.11it/s]"
     ]
    },
    {
     "name": "stdout",
     "output_type": "stream",
     "text": [
      "Epoch [250/1000], Loss: 113.9987\n"
     ]
    },
    {
     "name": "stderr",
     "output_type": "stream",
     "text": [
      " 50%|█████     | 500/1000 [02:07<02:06,  3.94it/s]"
     ]
    },
    {
     "name": "stdout",
     "output_type": "stream",
     "text": [
      "Epoch [500/1000], Loss: 1.1900\n"
     ]
    },
    {
     "name": "stderr",
     "output_type": "stream",
     "text": [
      " 75%|███████▌  | 750/1000 [03:10<01:02,  3.98it/s]"
     ]
    },
    {
     "name": "stdout",
     "output_type": "stream",
     "text": [
      "Epoch [750/1000], Loss: 19.0349\n"
     ]
    },
    {
     "name": "stderr",
     "output_type": "stream",
     "text": [
      "100%|██████████| 1000/1000 [04:13<00:00,  3.95it/s]"
     ]
    },
    {
     "name": "stdout",
     "output_type": "stream",
     "text": [
      "Epoch [1000/1000], Loss: 367.6652\n"
     ]
    },
    {
     "name": "stderr",
     "output_type": "stream",
     "text": [
      "\n"
     ]
    }
   ],
   "source": [
    "StochasticGradientDescent(1000, 0.000005, model, loss_fn, train_dl)"
   ]
  },
  {
   "cell_type": "code",
   "execution_count": 40,
   "id": "1466044b",
   "metadata": {},
   "outputs": [
    {
     "data": {
      "image/png": "[encoded data removed]",
      "text/plain": [
       "<Figure size 432x288 with 1 Axes>"
      ]
     },
     "metadata": {
      "needs_background": "light"
     },
     "output_type": "display_data"
    }
   ],
   "source": [
    "loss_train_values = [i.detach().numpy() for i in loss_train]\n",
    "\n",
    "plt.plot(iter, loss_train_values)\n",
    "plt.legend(['Train Loss'])\n",
    "plt.ylabel('MSE loss')\n",
    "plt.xlabel('n_iters')\n",
    "plt.title('Train Loss')\n",
    "plt.show()"
   ]
  },
  {
   "cell_type": "markdown",
   "id": "1e4545ce",
   "metadata": {},
   "source": [
    "- **We can observe that the PyTorch's SDG optimizer is haphazard but it converges to minima**"
   ]
  },
  {
   "cell_type": "markdown",
   "id": "6a4b7c9d",
   "metadata": {},
   "source": [
    "# 2) (b) Mini-Batch (batch_size = 5), Scratch, normalization"
   ]
  },
  {
   "cell_type": "code",
   "execution_count": 41,
   "id": "87e8bd1c",
   "metadata": {},
   "outputs": [],
   "source": [
    "X = data.drop(columns = ['Concrete compressive strength(MPa, megapascals) '])\n",
    "y = data['Concrete compressive strength(MPa, megapascals) ']\n",
    "X = X.astype(np.float32)\n",
    "y = y.astype(np.float32)\n",
    "\n",
    "X_train, X_test, y_train, y_test = train_test_split(X, y, test_size=0.3, random_state=42)\n",
    "\n",
    "X_train_norm=(X_train-X_train.mean())/X_train.std() #Standard Normalization\n",
    "X_0 = [1]*len(X_train_norm)\n",
    "X_train_norm['X_0'] = X_0\n",
    "\n",
    "y_train = y_train.to_numpy()\n",
    "\n",
    "X_test_norm=(X_test-X_test.mean())/X_test.std() #Standard Normalization\n",
    "X_0_ = [1]*len(X_test_norm)\n",
    "X_test_norm['X_0'] = X_0_\n",
    "\n",
    "y_test = y_test.to_numpy()"
   ]
  },
  {
   "cell_type": "code",
   "execution_count": 42,
   "id": "d75207ac",
   "metadata": {},
   "outputs": [
    {
     "name": "stdout",
     "output_type": "stream",
     "text": [
      "Epoch [1/6000], Loss: 1438.0366\n",
      "Epoch [1000/6000], Loss: 429.8531\n",
      "Epoch [2000/6000], Loss: 192.3708\n",
      "Epoch [3000/6000], Loss: 135.2338\n",
      "Epoch [4000/6000], Loss: 120.8054\n",
      "Epoch [5000/6000], Loss: 116.6798\n",
      "Epoch [6000/6000], Loss: 115.1333\n"
     ]
    }
   ],
   "source": [
    "weights = np.random.randn(X_train_norm.shape[1])\n",
    "weights = stochastic_gradient_descent(X_train_norm, y_train, weights, 0.000005, 6000, 5, X_test_norm, y_test)"
   ]
  },
  {
   "cell_type": "code",
   "execution_count": 43,
   "id": "188a8293",
   "metadata": {},
   "outputs": [
    {
     "data": {
      "image/png": "[encoded data removed]",
      "text/plain": [
       "<Figure size 576x360 with 1 Axes>"
      ]
     },
     "metadata": {
      "needs_background": "light"
     },
     "output_type": "display_data"
    }
   ],
   "source": [
    "plt.figure(figsize=(8, 5))\n",
    "a = 1\n",
    "b = 6000\n",
    "plt.plot(iter[a:b], loss_train[a:b])\n",
    "plt.plot(iter[a:b], loss_test[a:b])\n",
    "plt.legend(['Train Loss', 'Test Loss'])\n",
    "plt.ylabel('MSE loss')\n",
    "plt.xlabel('n_iters')\n",
    "plt.title('Train and Test Loss')\n",
    "plt.show()"
   ]
  },
  {
   "cell_type": "markdown",
   "id": "c37eb580",
   "metadata": {},
   "source": [
    "- **Its Noticeable that the descent is very smooth and stable in Mini-Batch gradient descent**"
   ]
  },
  {
   "cell_type": "markdown",
   "id": "5950c425",
   "metadata": {},
   "source": [
    "# 2) (b) Mini-Batch (batch_size = 5), PyTorch, normalization"
   ]
  },
  {
   "cell_type": "code",
   "execution_count": 44,
   "id": "c7af9298",
   "metadata": {},
   "outputs": [],
   "source": [
    "X = data.drop(columns = ['Concrete compressive strength(MPa, megapascals) '])\n",
    "y = data['Concrete compressive strength(MPa, megapascals) ']\n",
    "\n",
    "X_norm=(X-X.mean())/X.std() #Standard Normalization\n",
    "\n",
    "X_norm = X_norm.astype(np.float32)\n",
    "y = y.astype(np.float32)\n",
    "\n",
    "X1 = X_norm.to_numpy()\n",
    "y1 = y.to_numpy()\n",
    "\n",
    "inputs = torch.from_numpy(X1)\n",
    "target = torch.from_numpy(y1)\n",
    "\n",
    "X_train_norm, X_test_norm, y_train_norm, y_test_norm = train_test_split(inputs, target, test_size=0.3, random_state=42)\n",
    "\n",
    "train_ds = TensorDataset(inputs, target)"
   ]
  },
  {
   "cell_type": "code",
   "execution_count": 45,
   "id": "32bdfd77",
   "metadata": {},
   "outputs": [],
   "source": [
    "batch_size = 5 # Mini-Batch\n",
    "train_dl = DataLoader(train_ds, batch_size, shuffle=True)"
   ]
  },
  {
   "cell_type": "code",
   "execution_count": 46,
   "id": "9f5ab0af",
   "metadata": {},
   "outputs": [
    {
     "name": "stdout",
     "output_type": "stream",
     "text": [
      "Parameter containing:\n",
      "tensor([[-0.2597,  0.2007, -0.1134, -0.1590, -0.0436, -0.1074, -0.2491,  0.1520]],\n",
      "       requires_grad=True)\n",
      "Parameter containing:\n",
      "tensor([0.1177], requires_grad=True)\n"
     ]
    }
   ],
   "source": [
    "model = nn.Linear(X_train_norm.shape[1], 1) # Model\n",
    "print(model.weight)\n",
    "print(model.bias)"
   ]
  },
  {
   "cell_type": "code",
   "execution_count": 47,
   "id": "20b83d5c",
   "metadata": {},
   "outputs": [],
   "source": [
    "loss_fn = F.mse_loss"
   ]
  },
  {
   "cell_type": "code",
   "execution_count": 48,
   "id": "d3d3a237",
   "metadata": {},
   "outputs": [
    {
     "name": "stderr",
     "output_type": "stream",
     "text": [
      "  0%|          | 2/2500 [00:00<02:48, 14.82it/s]"
     ]
    },
    {
     "name": "stdout",
     "output_type": "stream",
     "text": [
      "Epoch [1/2500], Loss: 3152.9680\n"
     ]
    },
    {
     "name": "stderr",
     "output_type": "stream",
     "text": [
      " 10%|█         | 253/2500 [00:14<02:12, 16.90it/s]"
     ]
    },
    {
     "name": "stdout",
     "output_type": "stream",
     "text": [
      "Epoch [250/2500], Loss: 341.7636\n"
     ]
    },
    {
     "name": "stderr",
     "output_type": "stream",
     "text": [
      " 20%|██        | 502/2500 [00:29<02:16, 14.66it/s]"
     ]
    },
    {
     "name": "stdout",
     "output_type": "stream",
     "text": [
      "Epoch [500/2500], Loss: 281.4197\n"
     ]
    },
    {
     "name": "stderr",
     "output_type": "stream",
     "text": [
      " 30%|███       | 753/2500 [00:44<01:42, 17.01it/s]"
     ]
    },
    {
     "name": "stdout",
     "output_type": "stream",
     "text": [
      "Epoch [750/2500], Loss: 105.8031\n"
     ]
    },
    {
     "name": "stderr",
     "output_type": "stream",
     "text": [
      " 40%|████      | 1002/2500 [00:58<01:25, 17.47it/s]"
     ]
    },
    {
     "name": "stdout",
     "output_type": "stream",
     "text": [
      "Epoch [1000/2500], Loss: 425.4654\n"
     ]
    },
    {
     "name": "stderr",
     "output_type": "stream",
     "text": [
      " 50%|█████     | 1252/2500 [01:13<01:15, 16.56it/s]"
     ]
    },
    {
     "name": "stdout",
     "output_type": "stream",
     "text": [
      "Epoch [1250/2500], Loss: 704.9622\n"
     ]
    },
    {
     "name": "stderr",
     "output_type": "stream",
     "text": [
      " 60%|██████    | 1502/2500 [01:27<00:57, 17.49it/s]"
     ]
    },
    {
     "name": "stdout",
     "output_type": "stream",
     "text": [
      "Epoch [1500/2500], Loss: 339.7512\n"
     ]
    },
    {
     "name": "stderr",
     "output_type": "stream",
     "text": [
      " 70%|███████   | 1752/2500 [01:42<00:43, 17.22it/s]"
     ]
    },
    {
     "name": "stdout",
     "output_type": "stream",
     "text": [
      "Epoch [1750/2500], Loss: 62.9108\n"
     ]
    },
    {
     "name": "stderr",
     "output_type": "stream",
     "text": [
      " 80%|████████  | 2002/2500 [01:56<00:28, 17.62it/s]"
     ]
    },
    {
     "name": "stdout",
     "output_type": "stream",
     "text": [
      "Epoch [2000/2500], Loss: 491.2605\n"
     ]
    },
    {
     "name": "stderr",
     "output_type": "stream",
     "text": [
      " 90%|█████████ | 2252/2500 [02:11<00:14, 17.29it/s]"
     ]
    },
    {
     "name": "stdout",
     "output_type": "stream",
     "text": [
      "Epoch [2250/2500], Loss: 228.4344\n"
     ]
    },
    {
     "name": "stderr",
     "output_type": "stream",
     "text": [
      "100%|██████████| 2500/2500 [02:25<00:00, 17.18it/s]"
     ]
    },
    {
     "name": "stdout",
     "output_type": "stream",
     "text": [
      "Epoch [2500/2500], Loss: 174.5834\n"
     ]
    },
    {
     "name": "stderr",
     "output_type": "stream",
     "text": [
      "\n"
     ]
    }
   ],
   "source": [
    "StochasticGradientDescent(2500, 0.00005, model, loss_fn, train_dl)"
   ]
  },
  {
   "cell_type": "code",
   "execution_count": 49,
   "id": "15b887f7",
   "metadata": {},
   "outputs": [
    {
     "data": {
      "image/png": "[encoded data removed]",
      "text/plain": [
       "<Figure size 576x360 with 1 Axes>"
      ]
     },
     "metadata": {
      "needs_background": "light"
     },
     "output_type": "display_data"
    }
   ],
   "source": [
    "plt.figure(figsize=(8, 5))\n",
    "loss_train_values = [i.detach().numpy() for i in loss_train]\n",
    "\n",
    "plt.plot(iter, loss_train_values)\n",
    "plt.legend(['Train Loss'])\n",
    "plt.ylabel('MSE loss')\n",
    "plt.xlabel('n_iters')\n",
    "plt.title('Train Loss')\n",
    "plt.show()"
   ]
  },
  {
   "cell_type": "markdown",
   "id": "753cdb53",
   "metadata": {},
   "source": [
    "- **We can observe that the PyTorch's SDG optimizer for Mini-Batch GD is not smooth but converges very quickly with less number of epochs**"
   ]
  },
  {
   "cell_type": "markdown",
   "id": "a6f0a566",
   "metadata": {},
   "source": [
    "# 3) (a) Momentum Gradient Descent, Scratch, Normalization"
   ]
  },
  {
   "cell_type": "markdown",
   "id": "d0eedb91",
   "metadata": {},
   "source": [
    "$$\n",
    "\\theta_{t} := \\theta_{t} -[\\alpha \\frac{\\delta}{\\delta \\theta}J(\\theta_{t}) + \\beta \\frac{\\delta}{\\delta \\theta}J(\\theta_{t-1})]\n",
    "$$"
   ]
  },
  {
   "cell_type": "code",
   "execution_count": 50,
   "id": "9dd61ca7",
   "metadata": {},
   "outputs": [],
   "source": [
    "X = data.drop(columns = ['Concrete compressive strength(MPa, megapascals) '])\n",
    "y = data['Concrete compressive strength(MPa, megapascals) ']\n",
    "X = X.astype(np.float32)\n",
    "y = y.astype(np.float32)\n",
    "\n",
    "X_train, X_test, y_train, y_test = train_test_split(X, y, test_size=0.3, random_state=42)\n",
    "\n",
    "X_train_norm_MGD=(X_train-X_train.mean())/X_train.std() #Standard Normalization\n",
    "X_0 = [1]*len(X_train_norm_MGD)\n",
    "X_train_norm_MGD['X_0'] = X_0\n",
    "\n",
    "X_test_norm_MGD=(X_test-X_test.mean())/X_test.std() #Standard Normalization\n",
    "X_0_ = [1]*len(X_test_norm_MGD)\n",
    "X_test_norm_MGD['X_0'] = X_0_"
   ]
  },
  {
   "cell_type": "code",
   "execution_count": 51,
   "id": "dde531e5",
   "metadata": {},
   "outputs": [],
   "source": [
    "def momentum_gradient_descent(X, y, weights, alpha, beta, n_iters, X_test, y_test):\n",
    "    m = X.shape[0]\n",
    "    i=1\n",
    "    global loss_train, loss_test, iter, gradients\n",
    "    loss_train = []\n",
    "    loss_test = []\n",
    "    iter = []\n",
    "    gradients = [0]\n",
    "    for j in range(n_iters):\n",
    "        predictions = X @ weights\n",
    "        errors = predictions - y\n",
    "        gradient = X.T @ errors / m\n",
    "        \n",
    "        weights -= alpha * gradient + beta*gradients[-1]\n",
    "        \n",
    "        gradients.append(gradient)\n",
    "        \n",
    "        loss = mean_squared_error(y_train, predictions)\n",
    "        \n",
    "        if (i == 1) or (i%10 == 0) or (i == n_iters):\n",
    "            if (i == 1) or (i%1000 == 0) or (i == n_iters):\n",
    "                print('Epoch [{}/{}], Loss: {:.4f}'.format(i, n_iters, loss))\n",
    "            \n",
    "            loss_train.append(loss)\n",
    "            \n",
    "            preds_test = X_test @ weights\n",
    "            loss_t = mean_squared_error(preds_test, y_test)\n",
    "            loss_test.append(loss_t)\n",
    "            \n",
    "            iter.append(i)\n",
    "        i+=1\n",
    "    return weights"
   ]
  },
  {
   "cell_type": "code",
   "execution_count": 52,
   "id": "e440bbb3",
   "metadata": {},
   "outputs": [
    {
     "name": "stdout",
     "output_type": "stream",
     "text": [
      "Epoch [1/10000], Loss: 1674.1613\n",
      "Epoch [1000/10000], Loss: 117.8748\n",
      "Epoch [2000/10000], Loss: 112.6346\n",
      "Epoch [3000/10000], Loss: 111.4952\n",
      "Epoch [4000/10000], Loss: 110.7045\n",
      "Epoch [5000/10000], Loss: 110.0963\n",
      "Epoch [6000/10000], Loss: 109.6069\n",
      "Epoch [7000/10000], Loss: 109.2057\n",
      "Epoch [8000/10000], Loss: 108.8742\n",
      "Epoch [9000/10000], Loss: 108.5996\n",
      "Epoch [10000/10000], Loss: 108.3718\n"
     ]
    }
   ],
   "source": [
    "weights = np.random.randn(X_train_norm_MGD.shape[1])\n",
    "weights = momentum_gradient_descent(X_train_norm_MGD, y_train, weights, 0.00005, 0.003, 10000, X_test_norm_MGD, y_test)"
   ]
  },
  {
   "cell_type": "code",
   "execution_count": 53,
   "id": "6d67bb97",
   "metadata": {},
   "outputs": [
    {
     "data": {
      "image/png": "[encoded data removed]",
      "text/plain": [
       "<Figure size 432x288 with 1 Axes>"
      ]
     },
     "metadata": {
      "needs_background": "light"
     },
     "output_type": "display_data"
    }
   ],
   "source": [
    "plt.plot(iter, loss_train)\n",
    "plt.plot(iter, loss_test)\n",
    "plt.legend(['Train Loss', 'Test Loss'])\n",
    "plt.ylabel('MSE loss')\n",
    "plt.xlabel('n_iters')\n",
    "plt.title('Train and Test Loss')\n",
    "plt.show()"
   ]
  },
  {
   "cell_type": "markdown",
   "id": "9a64bd76",
   "metadata": {},
   "source": [
    "- **we can see that it converges very fast while using ```momentum``` and oscillations are reduced**"
   ]
  },
  {
   "cell_type": "markdown",
   "id": "3968f6d1",
   "metadata": {},
   "source": [
    "# 3) (b) Momentum Gradient Descent, PyTorch, Normalization"
   ]
  },
  {
   "cell_type": "code",
   "execution_count": 54,
   "id": "8419807a",
   "metadata": {},
   "outputs": [],
   "source": [
    "X = data.drop(columns = ['Concrete compressive strength(MPa, megapascals) '])\n",
    "y = data['Concrete compressive strength(MPa, megapascals) ']\n",
    "\n",
    "X_norm=(X-X.mean())/X.std() #Standard Normalization\n",
    "\n",
    "X_norm = X_norm.astype(np.float32)\n",
    "y = y.astype(np.float32)"
   ]
  },
  {
   "cell_type": "code",
   "execution_count": 55,
   "id": "23fd09c6",
   "metadata": {},
   "outputs": [],
   "source": [
    "X1 = X_norm.to_numpy()\n",
    "y1 = y.to_numpy()\n",
    "\n",
    "inputs = torch.from_numpy(X1)\n",
    "target = torch.from_numpy(y1)"
   ]
  },
  {
   "cell_type": "code",
   "execution_count": 56,
   "id": "8e96fdf5",
   "metadata": {},
   "outputs": [],
   "source": [
    "X_train_norm_mgd, X_test_norm_mgd, y_train_norm, y_test_norm = train_test_split(inputs, target, test_size=0.3, random_state=42)"
   ]
  },
  {
   "cell_type": "code",
   "execution_count": 57,
   "id": "c3868ffa",
   "metadata": {},
   "outputs": [],
   "source": [
    "batch_size = X_train_norm_mgd.shape[0] #SGD\n",
    "train_ds = TensorDataset(inputs, target)\n",
    "train_dl = DataLoader(train_ds, batch_size, shuffle=True)"
   ]
  },
  {
   "cell_type": "code",
   "execution_count": 58,
   "id": "9285ed22",
   "metadata": {},
   "outputs": [
    {
     "name": "stdout",
     "output_type": "stream",
     "text": [
      "Parameter containing:\n",
      "tensor([[-0.2308, -0.0212, -0.2104,  0.0848, -0.0653, -0.0672,  0.3047, -0.3271]],\n",
      "       requires_grad=True)\n",
      "Parameter containing:\n",
      "tensor([0.0174], requires_grad=True)\n"
     ]
    }
   ],
   "source": [
    "model = nn.Linear(X_train_norm_mgd.shape[1], 1) # Model\n",
    "print(model.weight)\n",
    "print(model.bias)"
   ]
  },
  {
   "cell_type": "code",
   "execution_count": 59,
   "id": "c2025deb",
   "metadata": {},
   "outputs": [],
   "source": [
    "loss_fn = F.mse_loss"
   ]
  },
  {
   "cell_type": "code",
   "execution_count": 60,
   "id": "28e3f1fa",
   "metadata": {},
   "outputs": [],
   "source": [
    "def MomentumGradientDescent(num_epochs, alpha, momntum, model, loss_fn, train_dl):\n",
    "    \n",
    "    opt = torch.optim.SGD(model.parameters(), lr=alpha, momentum=momntum)\n",
    "\n",
    "    global loss_train, loss_test, iter\n",
    "    loss_train = []\n",
    "    iter = []\n",
    "    i=1\n",
    "    \n",
    "    for epoch in tqdm(range(num_epochs)):\n",
    "        \n",
    "        for xb,yb in train_dl:            \n",
    "            pred = model(xb)           \n",
    "            loss = loss_fn(pred, yb)          \n",
    "            loss.backward()  \n",
    "            opt.step()\n",
    "            opt.zero_grad()\n",
    "        \n",
    "        if (i == 1) or (i%100 == 0) or (i == num_epochs):\n",
    "            if (i == 1) or (i%200 == 0) or (i == num_epochs):\n",
    "                print('Epoch [{}/{}], Loss: {:.4f}'.format(epoch+1, num_epochs, loss.item()))\n",
    "            loss_train.append(loss)\n",
    "            iter.append(i)\n",
    "        i+=1"
   ]
  },
  {
   "cell_type": "code",
   "execution_count": 61,
   "id": "f9b458f7",
   "metadata": {},
   "outputs": [
    {
     "name": "stderr",
     "output_type": "stream",
     "text": [
      "  1%|          | 10/1000 [00:00<00:10, 96.41it/s]"
     ]
    },
    {
     "name": "stdout",
     "output_type": "stream",
     "text": [
      "Epoch [1/1000], Loss: 1604.3480\n"
     ]
    },
    {
     "name": "stderr",
     "output_type": "stream",
     "text": [
      " 21%|██▏       | 213/1000 [00:02<00:07, 98.47it/s]"
     ]
    },
    {
     "name": "stdout",
     "output_type": "stream",
     "text": [
      "Epoch [200/1000], Loss: 278.9572\n"
     ]
    },
    {
     "name": "stderr",
     "output_type": "stream",
     "text": [
      " 41%|████      | 409/1000 [00:04<00:07, 83.13it/s]"
     ]
    },
    {
     "name": "stdout",
     "output_type": "stream",
     "text": [
      "Epoch [400/1000], Loss: 246.5730\n"
     ]
    },
    {
     "name": "stderr",
     "output_type": "stream",
     "text": [
      " 61%|██████▏   | 614/1000 [00:06<00:04, 96.05it/s]"
     ]
    },
    {
     "name": "stdout",
     "output_type": "stream",
     "text": [
      "Epoch [600/1000], Loss: 325.1023\n"
     ]
    },
    {
     "name": "stderr",
     "output_type": "stream",
     "text": [
      " 81%|████████  | 811/1000 [00:08<00:01, 94.53it/s]"
     ]
    },
    {
     "name": "stdout",
     "output_type": "stream",
     "text": [
      "Epoch [800/1000], Loss: 285.8583\n"
     ]
    },
    {
     "name": "stderr",
     "output_type": "stream",
     "text": [
      "100%|██████████| 1000/1000 [00:11<00:00, 90.31it/s]"
     ]
    },
    {
     "name": "stdout",
     "output_type": "stream",
     "text": [
      "Epoch [1000/1000], Loss: 282.4633\n"
     ]
    },
    {
     "name": "stderr",
     "output_type": "stream",
     "text": [
      "\n"
     ]
    }
   ],
   "source": [
    "MomentumGradientDescent(1000, 0.0005, 0.9, model, loss_fn, train_dl)"
   ]
  },
  {
   "cell_type": "code",
   "execution_count": 62,
   "id": "05e18bf7",
   "metadata": {},
   "outputs": [
    {
     "data": {
      "image/png": "[encoded data removed]",
      "text/plain": [
       "<Figure size 432x288 with 1 Axes>"
      ]
     },
     "metadata": {
      "needs_background": "light"
     },
     "output_type": "display_data"
    }
   ],
   "source": [
    "loss_train_values = [i.detach().numpy() for i in loss_train]\n",
    "\n",
    "plt.plot(iter, loss_train_values)\n",
    "plt.legend(['Train Loss'])\n",
    "plt.ylabel('MSE loss')\n",
    "plt.xlabel('n_iters')\n",
    "plt.title('Train Loss')\n",
    "plt.show()"
   ]
  },
  {
   "cell_type": "markdown",
   "id": "df550b16",
   "metadata": {},
   "source": [
    "- **Momentum with Mini batch gradient descent, we can observe the convergence rate is very quick and less number of epochs and a small learning rate**"
   ]
  },
  {
   "cell_type": "markdown",
   "id": "f2e32766",
   "metadata": {},
   "source": [
    "# 4) (a) Nesterov Accelerated Gradient Descent, Scratch, Normalization"
   ]
  },
  {
   "cell_type": "markdown",
   "id": "4f8bc530",
   "metadata": {},
   "source": [
    "$$\n",
    "w_{look\\_ahead} = w_t - \\gamma * update_{t-1}  \\\\\n",
    "update_{t} = \\gamma * update_{t-1} + eta * \\nabla w_{look\\_ahead}  \\\\\n",
    "w_{t+1} = w_t - update_t\n",
    "$$"
   ]
  },
  {
   "cell_type": "code",
   "execution_count": 63,
   "id": "dc403281",
   "metadata": {},
   "outputs": [],
   "source": [
    "def nesterov_gradient_descent(X, y, weights, eta, gamma, n_iters, X_test, y_test):\n",
    "    m = X.shape[0]\n",
    "    i=1\n",
    "    global loss_train, loss_test, iter, updates\n",
    "    loss_train = []\n",
    "    loss_test = []\n",
    "    iter = []\n",
    "    updates = [0]\n",
    "    for j in range(n_iters):\n",
    "        look_ahead = weights - gamma*updates[-1]\n",
    "        \n",
    "        predictions = X @ look_ahead\n",
    "        errors = predictions - y\n",
    "        gradient = X.T @ errors / m\n",
    "        \n",
    "        update = gamma*updates[-1] + eta*gradient\n",
    "        \n",
    "        weights -= update\n",
    "        \n",
    "        updates.append(update)\n",
    "        \n",
    "        loss = mean_squared_error(y_train, predictions)\n",
    "        \n",
    "        if (i == 1) or (i%10 == 0) or (i == n_iters):\n",
    "            if (i == 1) or (i%1000 == 0) or (i == n_iters):\n",
    "                print('Epoch [{}/{}], Loss: {:.4f}'.format(i, n_iters, loss))\n",
    "            \n",
    "            loss_train.append(loss)\n",
    "            \n",
    "            preds_test = X_test @ weights\n",
    "            loss_t = mean_squared_error(preds_test, y_test)\n",
    "            loss_test.append(loss_t)\n",
    "            \n",
    "            iter.append(i)\n",
    "        i+=1\n",
    "    return weights"
   ]
  },
  {
   "cell_type": "code",
   "execution_count": 64,
   "id": "3439b200",
   "metadata": {},
   "outputs": [
    {
     "name": "stdout",
     "output_type": "stream",
     "text": [
      "Epoch [1/10000], Loss: 1641.3100\n",
      "Epoch [1000/10000], Loss: 650.7098\n",
      "Epoch [2000/10000], Loss: 306.1570\n",
      "Epoch [3000/10000], Loss: 184.6289\n",
      "Epoch [4000/10000], Loss: 141.0797\n",
      "Epoch [5000/10000], Loss: 125.0996\n",
      "Epoch [6000/10000], Loss: 118.9709\n",
      "Epoch [7000/10000], Loss: 116.4126\n",
      "Epoch [8000/10000], Loss: 115.1794\n",
      "Epoch [9000/10000], Loss: 114.4606\n",
      "Epoch [10000/10000], Loss: 113.9588\n"
     ]
    }
   ],
   "source": [
    "weights = np.random.randn(X_train_norm_MGD.shape[1])\n",
    "weights = nesterov_gradient_descent(X_train_norm_MGD, y_train, weights, 0.0005, 0.03, 10000, X_test_norm_MGD, y_test)"
   ]
  },
  {
   "cell_type": "code",
   "execution_count": 65,
   "id": "d08486f8",
   "metadata": {},
   "outputs": [
    {
     "data": {
      "image/png": "[encoded data removed]",
      "text/plain": [
       "<Figure size 432x288 with 1 Axes>"
      ]
     },
     "metadata": {
      "needs_background": "light"
     },
     "output_type": "display_data"
    }
   ],
   "source": [
    "plt.plot(iter, loss_train)\n",
    "plt.plot(iter, loss_test)\n",
    "plt.legend(['Train Loss', 'Test Loss'])\n",
    "plt.ylabel('MSE loss')\n",
    "plt.xlabel('n_iters')\n",
    "plt.title('Train and Test Loss')\n",
    "plt.show()"
   ]
  },
  {
   "cell_type": "markdown",
   "id": "0da04b00",
   "metadata": {},
   "source": [
    "- **The key idea behind NAG is to add momentum to the gradient descent algorithm, which helps the optimizer to converge faster and avoid getting stuck in local minima. NAG adds a correction term to the gradient descent update based on the current velocity of the optimizer, which helps to balance the trade-off between convergence speed and the risk of overshooting the minimum**"
   ]
  },
  {
   "cell_type": "markdown",
   "id": "292ff3e1",
   "metadata": {},
   "source": [
    "# 4) (b) Nesterov Accelerated Gradient Descent, PyTorch, Normalization"
   ]
  },
  {
   "cell_type": "code",
   "execution_count": 66,
   "id": "1bb56c6e",
   "metadata": {},
   "outputs": [
    {
     "name": "stdout",
     "output_type": "stream",
     "text": [
      "Parameter containing:\n",
      "tensor([[-0.3081, -0.1891,  0.2406, -0.1156,  0.2386,  0.3272,  0.0125,  0.2713]],\n",
      "       requires_grad=True)\n",
      "Parameter containing:\n",
      "tensor([-0.2388], requires_grad=True)\n"
     ]
    }
   ],
   "source": [
    "model = nn.Linear(X_train_norm_mgd.shape[1], 1) # Model\n",
    "print(model.weight)\n",
    "print(model.bias)"
   ]
  },
  {
   "cell_type": "code",
   "execution_count": 67,
   "id": "f8db5efb",
   "metadata": {},
   "outputs": [],
   "source": [
    "def NesterovGradientDescent(num_epochs, alpha, model, momntum, dampening, loss_fn, train_dl):\n",
    "    \n",
    "    opt = torch.optim.SGD(model.parameters(), lr=alpha, momentum = momntum, nesterov=True)\n",
    "\n",
    "    global loss_train, loss_test, iter\n",
    "    loss_train = []\n",
    "    iter = []\n",
    "    i=1\n",
    "    \n",
    "    for epoch in tqdm(range(num_epochs)):\n",
    "        \n",
    "        for xb,yb in train_dl:            \n",
    "            pred = model(xb)           \n",
    "            loss = loss_fn(pred, yb)          \n",
    "            loss.backward()  \n",
    "            opt.step()\n",
    "            opt.zero_grad()\n",
    "        \n",
    "        if (i == 1) or (i%100 == 0) or (i == num_epochs):\n",
    "            if (i == 1) or (i%200 == 0) or (i == num_epochs):\n",
    "                print('Epoch [{}/{}], Loss: {:.4f}'.format(epoch+1, num_epochs, loss.item()))\n",
    "            loss_train.append(loss)\n",
    "            iter.append(i)\n",
    "        i+=1"
   ]
  },
  {
   "cell_type": "code",
   "execution_count": 68,
   "id": "dc07d7ae",
   "metadata": {},
   "outputs": [
    {
     "name": "stderr",
     "output_type": "stream",
     "text": [
      "  1%|          | 10/1000 [00:00<00:10, 91.45it/s]"
     ]
    },
    {
     "name": "stdout",
     "output_type": "stream",
     "text": [
      "Epoch [1/1000], Loss: 1499.7609\n"
     ]
    },
    {
     "name": "stderr",
     "output_type": "stream",
     "text": [
      " 21%|██        | 212/1000 [00:02<00:07, 102.44it/s]"
     ]
    },
    {
     "name": "stdout",
     "output_type": "stream",
     "text": [
      "Epoch [200/1000], Loss: 289.1649\n"
     ]
    },
    {
     "name": "stderr",
     "output_type": "stream",
     "text": [
      " 42%|████▏     | 416/1000 [00:04<00:05, 100.27it/s]"
     ]
    },
    {
     "name": "stdout",
     "output_type": "stream",
     "text": [
      "Epoch [400/1000], Loss: 277.0341\n"
     ]
    },
    {
     "name": "stderr",
     "output_type": "stream",
     "text": [
      " 61%|██████▏   | 614/1000 [00:06<00:04, 86.32it/s] "
     ]
    },
    {
     "name": "stdout",
     "output_type": "stream",
     "text": [
      "Epoch [600/1000], Loss: 288.2809\n"
     ]
    },
    {
     "name": "stderr",
     "output_type": "stream",
     "text": [
      " 82%|████████▏ | 819/1000 [00:08<00:01, 98.38it/s] "
     ]
    },
    {
     "name": "stdout",
     "output_type": "stream",
     "text": [
      "Epoch [800/1000], Loss: 251.0816\n"
     ]
    },
    {
     "name": "stderr",
     "output_type": "stream",
     "text": [
      "100%|██████████| 1000/1000 [00:10<00:00, 92.87it/s]"
     ]
    },
    {
     "name": "stdout",
     "output_type": "stream",
     "text": [
      "Epoch [1000/1000], Loss: 249.2602\n"
     ]
    },
    {
     "name": "stderr",
     "output_type": "stream",
     "text": [
      "\n"
     ]
    }
   ],
   "source": [
    "NesterovGradientDescent(1000, 0.005, model, 0.03, 0, loss_fn, train_dl)"
   ]
  },
  {
   "cell_type": "code",
   "execution_count": 69,
   "id": "31c022ea",
   "metadata": {},
   "outputs": [
    {
     "data": {
      "image/png": "[encoded data removed]",
      "text/plain": [
       "<Figure size 432x288 with 1 Axes>"
      ]
     },
     "metadata": {
      "needs_background": "light"
     },
     "output_type": "display_data"
    }
   ],
   "source": [
    "loss_train_values = [i.detach().numpy() for i in loss_train]\n",
    "\n",
    "plt.plot(iter, loss_train_values)\n",
    "plt.legend(['Train Loss'])\n",
    "plt.ylabel('MSE loss')\n",
    "plt.xlabel('n_iters')\n",
    "plt.title('Train Loss')\n",
    "plt.show()"
   ]
  },
  {
   "cell_type": "markdown",
   "id": "330f9401",
   "metadata": {},
   "source": [
    "- **The key idea behind NAG is to add momentum to the gradient descent algorithm, which helps the optimizer to converge faster and avoid getting stuck in local minima.**"
   ]
  },
  {
   "cell_type": "markdown",
   "id": "325c80b6",
   "metadata": {},
   "source": [
    "$$\n",
    "Thank You\n",
    "$$"
   ]
  }
 ],
 "metadata": {
  "kernelspec": {
   "display_name": "Python 3",
   "language": "python",
   "name": "python3"
  },
  "language_info": {
   "codemirror_mode": {
    "name": "ipython",
    "version": 3
   },
   "file_extension": ".py",
   "mimetype": "text/x-python",
   "name": "python",
   "nbconvert_exporter": "python",
   "pygments_lexer": "ipython3",
   "version": "3.8.8"
  }
 },
 "nbformat": 4,
 "nbformat_minor": 5
}
